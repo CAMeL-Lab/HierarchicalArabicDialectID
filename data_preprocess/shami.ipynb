{
 "cells": [
  {
   "cell_type": "code",
   "execution_count": 1,
   "metadata": {},
   "outputs": [],
   "source": [
    "import csv\n",
    "import pandas as pd\n",
    "import os\n",
    "from camel_tools.tokenizers import word as tokenizer\n",
    "import sys\n",
    "# insert at 1, 0 is the script path (or '' in REPL)\n",
    "sys.path.append('/Users/nurpeiis/Desktop/Capstone/hierarchical-did/utils')\n",
    "from data_process import DataProcess"
   ]
  },
  {
   "cell_type": "code",
   "execution_count": 2,
   "metadata": {},
   "outputs": [],
   "source": [
    "dp = DataProcess('../data_processed_splited/shami/', 'semi_automatic', 'web_mixed', 'https://www.aclweb.org/anthology/L18-1576/', 'shami', {},{},0, 'corpus', 'manual')\n"
   ]
  },
  {
   "cell_type": "code",
   "execution_count": 3,
   "metadata": {},
   "outputs": [],
   "source": [
    "files = os.listdir('../data_processed/shami/')\n",
    "for file in files:\n",
    "    df = pd.read_csv('../data_processed/shami/'+file, delimiter='\\t', header=0, index_col=0)\n",
    "    df['split_original_manual'] = 'manual'\n",
    "    df.to_csv('../data_processed_splited/shami/'+file, sep='\\t')"
   ]
  },
  {
   "cell_type": "code",
   "execution_count": 5,
   "metadata": {},
   "outputs": [],
   "source": [
    "files = os.listdir('../data_processed_splited/shami/')\n",
    "for file in files:\n",
    "    df_train, df_dev, df_test = dp.split(file, 0.8, 0.1, 0.1)\n",
    "    dp.save_file('train_'+file, df_train)    \n",
    "    dp.save_file('dev_'+file, df_dev)\n",
    "    dp.save_file('test_'+file, df_test)"
   ]
  },
  {
   "cell_type": "code",
   "execution_count": 3,
   "metadata": {},
   "outputs": [],
   "source": [
    "dp.save_features('../datasets_splited_features.tsv')"
   ]
  },
  {
   "cell_type": "code",
   "execution_count": 4,
   "metadata": {},
   "outputs": [],
   "source": [
    "files = ['jordinian', 'Lebanees', 'Palestinian', 'syrian']\n",
    "for f in files:\n",
    "    dp.save_file(f+'.tsv', dp.preprocess('../../data_raw/shami-corpus-master/Data/'+f+'.txt', '', '', f, '', header=None))\n",
    "\n"
   ]
  }
 ],
 "metadata": {
  "kernelspec": {
   "display_name": "Python 3",
   "language": "python",
   "name": "python3"
  },
  "language_info": {
   "codemirror_mode": {
    "name": "ipython",
    "version": 3
   },
   "file_extension": ".py",
   "mimetype": "text/x-python",
   "name": "python",
   "nbconvert_exporter": "python",
   "pygments_lexer": "ipython3",
   "version": "3.8.2"
  }
 },
 "nbformat": 4,
 "nbformat_minor": 4
}
