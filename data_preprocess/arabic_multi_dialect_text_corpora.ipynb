{
 "cells": [
  {
   "cell_type": "code",
   "execution_count": 1,
   "metadata": {},
   "outputs": [],
   "source": [
    "import csv\n",
    "import pandas as pd\n",
    "import os\n",
    "import sys\n",
    "# insert at 1, 0 is the script path (or '' in REPL)\n",
    "sys.path.append('/Users/nurpeiis/Desktop/Capstone/hierarchical-did/utils')\n",
    "from data_process import DataProcess"
   ]
  },
  {
   "cell_type": "code",
   "execution_count": 2,
   "metadata": {},
   "outputs": [
    {
     "name": "stdout",
     "output_type": "stream",
     "text": [
      "Before 1271819\n",
      "After 1265921\n",
      "Before 1745372\n",
      "After 1729545\n",
      "Before 1149136\n",
      "After 1143354\n",
      "Before 1053155\n",
      "After 1044495\n"
     ]
    }
   ],
   "source": [
    "files = ['EGY', 'GULF', 'LEV', 'NorthAfrica']\n",
    "folder_name = '../../data_raw/ArabicMultiDialectTextCorpora/'\n",
    "for f in files:\n",
    "    with open(folder_name + f) as r:\n",
    "        lines = r.read().splitlines()\n",
    "    #print(lines[:lines.index('NEW_PAGE')])\n",
    "    lines = lines[lines.index('NEW_PAGE')+1:]\n",
    "    print(\"Before\", len(lines))\n",
    "    lines = list(filter(lambda a: a != 'NEW_PAGE', lines))\n",
    "    print(\"After\", len(lines))\n",
    "    df = pd.DataFrame(lines)\n",
    "    df.to_csv(folder_name + f + '_cleaned.tsv', sep='\\t', index=False, header=None)"
   ]
  },
  {
   "cell_type": "code",
   "execution_count": 4,
   "metadata": {},
   "outputs": [],
   "source": [
    "dp = DataProcess('../data_processed_splited/arabic_multi_dialect_text_corpora/', 'word_level', 'web_mixed', 'http://almeman.weebly.com/arabic-multi-dialect-text-corpora.html', \n",
    "                 'arabic_multi_dialect_text_corpora', {},{},0, 'corpus', 'manual')"
   ]
  },
  {
   "cell_type": "code",
   "execution_count": 5,
   "metadata": {},
   "outputs": [],
   "source": [
    "dialect_map = {'EGY': ['eg', 'nile_basin'], 'GULF': ['', 'gulf'], 'LEV': ['', 'levant'], 'NorthAfrica': ['', 'maghreb']}\n",
    "for f in files:\n",
    "    dp.save_file(f +'_cleaned.tsv', dp.preprocess(folder_name + f +'_cleaned.tsv', '', '', dialect_map[f][0], dialect_map[f][1], header=None))\n",
    "\n"
   ]
  },
  {
   "cell_type": "code",
   "execution_count": 6,
   "metadata": {},
   "outputs": [],
   "source": [
    "dp.save_features('../datasets_splited_features.tsv')\n",
    "\n"
   ]
  },
  {
   "cell_type": "code",
   "execution_count": 8,
   "metadata": {},
   "outputs": [],
   "source": [
    "for file in files:\n",
    "    df_train, df_dev, df_test = dp.split(file + '_cleaned.tsv', 0.8, 0.1, 0.1)\n",
    "    dp.save_file('train_'+file+'.tsv', df_train)    \n",
    "    dp.save_file('dev_'+file+'.tsv', df_dev)\n",
    "    dp.save_file('test_'+file+'.tsv', df_test)"
   ]
  },
  {
   "cell_type": "code",
   "execution_count": null,
   "metadata": {},
   "outputs": [],
   "source": []
  }
 ],
 "metadata": {
  "kernelspec": {
   "display_name": "Python 3",
   "language": "python",
   "name": "python3"
  },
  "language_info": {
   "codemirror_mode": {
    "name": "ipython",
    "version": 3
   },
   "file_extension": ".py",
   "mimetype": "text/x-python",
   "name": "python",
   "nbconvert_exporter": "python",
   "pygments_lexer": "ipython3",
   "version": "3.8.2"
  }
 },
 "nbformat": 4,
 "nbformat_minor": 4
}
