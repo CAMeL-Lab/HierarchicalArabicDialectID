{
 "cells": [
  {
   "cell_type": "code",
   "execution_count": 1,
   "metadata": {},
   "outputs": [],
   "source": [
    "import re\n",
    "import csv\n",
    "import pandas as pd\n",
    "import os\n",
    "from camel_tools.utils import charsets\n",
    "import sys\n",
    "# insert at 1, 0 is the script path (or '' in REPL)\n",
    "sys.path.append('/Users/nurpeiis/Desktop/Capstone/hierarchical-did/utils')\n",
    "from data_process import DataProcess"
   ]
  },
  {
   "cell_type": "code",
   "execution_count": 4,
   "metadata": {},
   "outputs": [],
   "source": [
    "#Step 0: Preprocess the data\n",
    "df = pd.DataFrame()\n",
    "folder = '../../data_raw/ldc_bolt_arz_eng_wa_train_sms_chat_2019_t18/data/source/tokenized'\n",
    "files = os.listdir(folder)\n",
    "for file in files:\n",
    "    with open(folder + '/' + file) as f:\n",
    "        lines = f.read().splitlines()\n",
    "    df_tmp = pd.DataFrame(lines)\n",
    "    df = df.append(df_tmp, ignore_index=True)\n",
    "df.to_csv('../../data_raw/ldc_bolt_arz_eng_wa_train_sms_chat_2019_t18/processed.tsv', index=False, header=None, sep='\\t')"
   ]
  },
  {
   "cell_type": "code",
   "execution_count": 5,
   "metadata": {},
   "outputs": [],
   "source": [
    "dp = DataProcess('../data_processed/ldc_bolt_arz_eng_wa_train_sms_chat_2019_t18/', 'user_level', 'sms', 'https://catalog.ldc.upenn.edu/LDC2019T18', 'ldc_bolt_arz_eng_wa_train_sms_chat_2019_t18', {},{},0, 'corpus')"
   ]
  },
  {
   "cell_type": "code",
   "execution_count": 6,
   "metadata": {},
   "outputs": [],
   "source": [
    "dp.save_file('processed.tsv', dp.preprocess('../../data_raw/ldc_bolt_arz_eng_wa_train_sms_chat_2019_t18/processed.tsv', '', '', 'Egypt', '', header=None))"
   ]
  },
  {
   "cell_type": "code",
   "execution_count": 7,
   "metadata": {},
   "outputs": [],
   "source": [
    "dp.save_features('../datasets_features.tsv')"
   ]
  }
 ],
 "metadata": {
  "kernelspec": {
   "display_name": "Python 3",
   "language": "python",
   "name": "python3"
  },
  "language_info": {
   "codemirror_mode": {
    "name": "ipython",
    "version": 3
   },
   "file_extension": ".py",
   "mimetype": "text/x-python",
   "name": "python",
   "nbconvert_exporter": "python",
   "pygments_lexer": "ipython3",
   "version": "3.8.2"
  }
 },
 "nbformat": 4,
 "nbformat_minor": 4
}
