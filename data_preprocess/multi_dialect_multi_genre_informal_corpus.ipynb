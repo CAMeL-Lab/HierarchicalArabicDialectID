{
 "cells": [
  {
   "cell_type": "code",
   "execution_count": 2,
   "metadata": {},
   "outputs": [],
   "source": [
    "import csv\n",
    "import pandas as pd\n",
    "import os\n",
    "import sys\n",
    "# insert at 1, 0 is the script path (or '' in REPL)\n",
    "sys.path.append('/Users/nurpeiis/Desktop/Capstone/hierarchical-did/utils')\n",
    "from data_process import DataProcess"
   ]
  },
  {
   "cell_type": "code",
   "execution_count": 9,
   "metadata": {},
   "outputs": [],
   "source": [
    "dp_news = DataProcess('../data_processed_splited/multi_dialect_multi_genre_informal_corpus/news/', 'mechanical_turk_annotators', 'news_comments', 'https://github.com/ryancotterell/arabic_dialect_annotation', \n",
    "                 'multi_dialect_multi_genre_informal_corpus', {},{},1, 'corpus', 'manual')\n",
    "dp_twitter = DataProcess('../data_processed_splited/multi_dialect_multi_genre_informal_corpus/twitter/', 'mechanical_turk_annotators', 'twitter', 'https://github.com/ryancotterell/arabic_dialect_annotation', \n",
    "                 'multi_dialect_multi_genre_informal_corpus', {},{},1, 'corpus', 'manual')"
   ]
  },
  {
   "cell_type": "code",
   "execution_count": 5,
   "metadata": {},
   "outputs": [],
   "source": [
    "files = os.listdir('../data_processed/multi_dialect_multi_genre_informal_corpus/')\n",
    "for file in files:\n",
    "    df = pd.read_csv('../data_processed/multi_dialect_multi_genre_informal_corpus/'+file, delimiter='\\t', header=0, index_col=0)\n",
    "    df['split_original_manual'] = 'manual'\n",
    "    if 'twitter' in file:\n",
    "        df.to_csv('../data_processed_splited/multi_dialect_multi_genre_informal_corpus/twitter/'+file, sep='\\t')\n",
    "    else:\n",
    "        df.to_csv('../data_processed_splited/multi_dialect_multi_genre_informal_corpus/news/'+file, sep='\\t')        "
   ]
  },
  {
   "cell_type": "code",
   "execution_count": 10,
   "metadata": {},
   "outputs": [],
   "source": [
    "dp_news.save_features('../datasets_splited_features.tsv')\n",
    "dp_twitter.save_features('../datasets_splited_features.tsv')"
   ]
  },
  {
   "cell_type": "code",
   "execution_count": 12,
   "metadata": {},
   "outputs": [],
   "source": [
    "files_twitter = os.listdir('../data_processed_splited/multi_dialect_multi_genre_informal_corpus/twitter')\n",
    "for file in files_twitter:\n",
    "    df_train, df_dev, df_test = dp_twitter.split(file, 0.8, 0.1, 0.1)\n",
    "    dp_twitter.save_file('train_'+file, df_train)    \n",
    "    dp_twitter.save_file('dev_'+file, df_dev)\n",
    "    dp_twitter.save_file('test_'+file, df_test)\n",
    "files_news = os.listdir('../data_processed_splited/multi_dialect_multi_genre_informal_corpus/news')\n",
    "for file in files_news:\n",
    "    df_train, df_dev, df_test = dp_news.split(file, 0.8, 0.1, 0.1)\n",
    "    dp_news.save_file('train_'+file, df_train)    \n",
    "    dp_news.save_file('dev_'+file, df_dev)\n",
    "    dp_news.save_file('test_'+file, df_test)\n",
    "        "
   ]
  },
  {
   "cell_type": "code",
   "execution_count": 4,
   "metadata": {},
   "outputs": [
    {
     "name": "stdout",
     "output_type": "stream",
     "text": [
      "After 8925\n",
      "Before 8925\n",
      "After 2053\n",
      "Before 2053\n",
      "After 6306\n",
      "Before 6306\n",
      "After 36331\n",
      "Before 36331\n",
      "After 254\n",
      "Before 254\n",
      "After 226\n",
      "Before 226\n",
      "After 63838\n",
      "Before 63838\n",
      "After 6514\n",
      "Before 6514\n",
      "After 100\n",
      "Before 100\n",
      "After 4810\n",
      "Before 4810\n",
      "After 1595\n",
      "Before 1595\n"
     ]
    }
   ],
   "source": [
    "files = ['egyptian', 'gulf', 'iraqi', 'msa', 'maghrebi', 'levantine']\n",
    "folder_name = '../../data_raw/burch_region/'\n",
    "for f in files:\n",
    "    if f == 'msa':\n",
    "        dp_news.save_file(f +'.tsv', dp_news.preprocess(folder_name + f, f, f, f, f, header=None))\n",
    "    else:\n",
    "        dp_news.save_file(f +'.tsv', dp_news.preprocess(folder_name + f, '', '', '', f, header=None))\n",
    "        dp_twitter.save_file('twitter-' + f +'.tsv', dp_twitter.preprocess(folder_name + 'twitter-' + f, '', '', '', f, header=None))\n",
    "        \n",
    "\n"
   ]
  }
 ],
 "metadata": {
  "kernelspec": {
   "display_name": "Python 3",
   "language": "python",
   "name": "python3"
  },
  "language_info": {
   "codemirror_mode": {
    "name": "ipython",
    "version": 3
   },
   "file_extension": ".py",
   "mimetype": "text/x-python",
   "name": "python",
   "nbconvert_exporter": "python",
   "pygments_lexer": "ipython3",
   "version": "3.8.2"
  }
 },
 "nbformat": 4,
 "nbformat_minor": 4
}
