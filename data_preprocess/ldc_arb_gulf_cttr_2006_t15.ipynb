{
 "cells": [
  {
   "cell_type": "code",
   "execution_count": 1,
   "metadata": {},
   "outputs": [],
   "source": [
    "import re\n",
    "import csv\n",
    "import pandas as pd\n",
    "import os\n",
    "from camel_tools.utils import charsets\n",
    "import sys\n",
    "# insert at 1, 0 is the script path (or '' in REPL)\n",
    "sys.path.append('/Users/nurpeiis/Desktop/Capstone/hierarchical-did/utils')\n",
    "from data_process import DataProcess"
   ]
  },
  {
   "cell_type": "code",
   "execution_count": 9,
   "metadata": {},
   "outputs": [
    {
     "data": {
      "text/html": [
       "<div>\n",
       "<style scoped>\n",
       "    .dataframe tbody tr th:only-of-type {\n",
       "        vertical-align: middle;\n",
       "    }\n",
       "\n",
       "    .dataframe tbody tr th {\n",
       "        vertical-align: top;\n",
       "    }\n",
       "\n",
       "    .dataframe thead th {\n",
       "        text-align: right;\n",
       "    }\n",
       "</style>\n",
       "<table border=\"1\" class=\"dataframe\">\n",
       "  <thead>\n",
       "    <tr style=\"text-align: right;\">\n",
       "      <th></th>\n",
       "      <th>filename</th>\n",
       "      <th>A</th>\n",
       "      <th>B</th>\n",
       "    </tr>\n",
       "  </thead>\n",
       "  <tbody>\n",
       "    <tr>\n",
       "      <th>0</th>\n",
       "      <td>arb_glf-20040208_011139</td>\n",
       "      <td>UAE</td>\n",
       "      <td>UAE</td>\n",
       "    </tr>\n",
       "    <tr>\n",
       "      <th>1</th>\n",
       "      <td>arb_glf-20040208_012423</td>\n",
       "      <td>Oman</td>\n",
       "      <td>Oman</td>\n",
       "    </tr>\n",
       "    <tr>\n",
       "      <th>2</th>\n",
       "      <td>arb_glf-20040208_013620</td>\n",
       "      <td>UAE</td>\n",
       "      <td>UAE</td>\n",
       "    </tr>\n",
       "    <tr>\n",
       "      <th>3</th>\n",
       "      <td>arb_glf-20040208_015029</td>\n",
       "      <td>UAE</td>\n",
       "      <td>UAE</td>\n",
       "    </tr>\n",
       "    <tr>\n",
       "      <th>4</th>\n",
       "      <td>arb_glf-20040208_015804</td>\n",
       "      <td>Oman</td>\n",
       "      <td>Oman</td>\n",
       "    </tr>\n",
       "    <tr>\n",
       "      <th>...</th>\n",
       "      <td>...</td>\n",
       "      <td>...</td>\n",
       "      <td>...</td>\n",
       "    </tr>\n",
       "    <tr>\n",
       "      <th>521</th>\n",
       "      <td>arb_glf-20040301_041731</td>\n",
       "      <td>Oman</td>\n",
       "      <td>Oman</td>\n",
       "    </tr>\n",
       "    <tr>\n",
       "      <th>522</th>\n",
       "      <td>arb_glf-20040304_052938</td>\n",
       "      <td>Saudi_Arabia</td>\n",
       "      <td>Saudi_Arabia</td>\n",
       "    </tr>\n",
       "    <tr>\n",
       "      <th>523</th>\n",
       "      <td>arb_glf-20040310_075915</td>\n",
       "      <td>Saudi_Arabia</td>\n",
       "      <td>Saudi_Arabia</td>\n",
       "    </tr>\n",
       "    <tr>\n",
       "      <th>524</th>\n",
       "      <td>arb_glf-20040315_061838</td>\n",
       "      <td>Oman</td>\n",
       "      <td>Oman</td>\n",
       "    </tr>\n",
       "    <tr>\n",
       "      <th>525</th>\n",
       "      <td>arb_glf-20040603_183141</td>\n",
       "      <td>UAE</td>\n",
       "      <td>UAE</td>\n",
       "    </tr>\n",
       "  </tbody>\n",
       "</table>\n",
       "<p>526 rows × 3 columns</p>\n",
       "</div>"
      ],
      "text/plain": [
       "                    filename             A             B\n",
       "0    arb_glf-20040208_011139           UAE           UAE\n",
       "1    arb_glf-20040208_012423          Oman          Oman\n",
       "2    arb_glf-20040208_013620           UAE           UAE\n",
       "3    arb_glf-20040208_015029           UAE           UAE\n",
       "4    arb_glf-20040208_015804          Oman          Oman\n",
       "..                       ...           ...           ...\n",
       "521  arb_glf-20040301_041731          Oman          Oman\n",
       "522  arb_glf-20040304_052938  Saudi_Arabia  Saudi_Arabia\n",
       "523  arb_glf-20040310_075915  Saudi_Arabia  Saudi_Arabia\n",
       "524  arb_glf-20040315_061838          Oman          Oman\n",
       "525  arb_glf-20040603_183141           UAE           UAE\n",
       "\n",
       "[526 rows x 3 columns]"
      ]
     },
     "execution_count": 9,
     "metadata": {},
     "output_type": "execute_result"
    }
   ],
   "source": [
    "def get_speakers_info():\n",
    "    df= pd.read_csv('../../data_raw/ldc_arb_gulf_cttr_2006_t15/doc/training_calls.tab', delimiter='\\t') \n",
    "    df_speaker_info = pd.DataFrame()\n",
    "    df_speaker_info['filename'] = df['File-ID']    \n",
    "    df_speaker_info['A'] = df['A-Region']  \n",
    "    df_speaker_info['B'] = df['B-Region']\n",
    "    df_devtest= pd.read_csv('../../data_raw/ldc_arb_gulf_cttr_2006_t15/doc/devtest_calls.tab', delimiter='\\t') #in line 4 of the file delete extra tabs from Places to go\n",
    "    df_speaker_info_devtest = pd.DataFrame()\n",
    "    df_speaker_info_devtest['filename'] = df_devtest['File-ID']    \n",
    "    df_speaker_info_devtest['A'] = df_devtest['A-Region']  \n",
    "    df_speaker_info_devtest['B'] = df_devtest['B-Region']\n",
    "    df_speaker_info = df_speaker_info.append(df_speaker_info_devtest, ignore_index=True)\n",
    "    return df_speaker_info"
   ]
  },
  {
   "cell_type": "code",
   "execution_count": 20,
   "metadata": {},
   "outputs": [],
   "source": [
    "def speakers_split(path_to_directory, filename):\n",
    "    # Cleaning data and splitting between speaker A and B\n",
    "    with open('{}/{}'.format(path_to_directory, filename)) as f:\n",
    "        try:\n",
    "            lines_raw = f.read().splitlines()\n",
    "        except:\n",
    "            return False\n",
    "        lines = [i for i in lines_raw if i] \n",
    "    ar_letters = charsets.AR_LETTERS_CHARSET\n",
    "    reg=re.compile('^[{}]+$'.format(ar_letters))\n",
    "    speakers = {'A': [], 'B': []}\n",
    "    curr_speaker = 'A'\n",
    "    for l in lines:\n",
    "        word = l.split()\n",
    "        line = \"\"\n",
    "        for w in word:\n",
    "            if w == 'A:' or w == 'B:' or reg.match(w):\n",
    "                line += w + \" \"\n",
    "        line = line[:-1]\n",
    "        if 'A:' in line:\n",
    "            curr_speaker = 'A'\n",
    "            line = line.replace('A:','')\n",
    "        elif 'B:' in line:\n",
    "            curr_speaker = 'B'            \n",
    "            line = line.replace('B:','')\n",
    "        line = line.replace('tnfs', '')\n",
    "        #print(line)\n",
    "        #Get only lines that are purely in Arabic\n",
    "        line = line.replace('(', '')        \n",
    "        line = line.replace(')', '')\n",
    "        #print(line)\n",
    "        if re.match(\"[\\(A-Za-z]\", line) == None and line != '':\n",
    "            speakers[curr_speaker].append(line)\n",
    "    return speakers\n",
    "#speakers_split('../../data_raw/ldc_arb_gulf_cttr_2006_t15/transc/train2c/', 'arb_glf-20040208_011139.txt')"
   ]
  },
  {
   "cell_type": "code",
   "execution_count": 14,
   "metadata": {},
   "outputs": [],
   "source": [
    "def get_processed(speakers, country_a, country_b):\n",
    "    df_processed = pd.DataFrame()\n",
    "    df_processed['original_sentence'] = speakers['A']\n",
    "    df_processed['dialect_country_id'] = country_a\n",
    "    df_processed['dialect_region_id'] = 'Gulf'\n",
    "    df_processed_b = pd.DataFrame()\n",
    "    df_processed_b['original_sentence'] = speakers['B']\n",
    "    df_processed_b['dialect_country_id'] = country_b\n",
    "    df_processed_b['dialect_region_id'] = 'Gulf'\n",
    "\n",
    "    df_processed = df_processed.append(df_processed_b, ignore_index=True)\n",
    "    return df_processed"
   ]
  },
  {
   "cell_type": "code",
   "execution_count": 18,
   "metadata": {},
   "outputs": [],
   "source": [
    "def process_directory(path_to_directory):\n",
    "    df = pd.DataFrame(columns={'original_sentence', 'dialect_country_id', 'dialect_region_id'})\n",
    "\n",
    "    df_speakers = get_speakers_info()\n",
    "    counter_bad = 0\n",
    "    files = os.listdir(path_to_directory)\n",
    "    for f in files:\n",
    "        try:\n",
    "            country_a = df_speakers.loc[df_speakers[\"filename\"] == f[:-4]].iloc[0]['A']\n",
    "            country_b = df_speakers.loc[df_speakers[\"filename\"] == f[:-4]].iloc[0]['B']\n",
    "            speakers = speakers_split(path_to_directory, f)\n",
    "            if speakers:\n",
    "                df = df.append(get_processed(speakers, country_a, country_b), ignore_index=True)\n",
    "            else:\n",
    "                counter_bad += 1\n",
    "        except:\n",
    "            print(\"Bad\", f)\n",
    "            continue\n",
    "    print('Unable to process {} files in the following directory: {}'.format(counter_bad, path_to_directory))\n",
    "    return df"
   ]
  },
  {
   "cell_type": "code",
   "execution_count": 23,
   "metadata": {},
   "outputs": [
    {
     "name": "stdout",
     "output_type": "stream",
     "text": [
      "Unable to process 0 files in the following directory: ../../data_raw/ldc_arb_gulf_cttr_2006_t15/transc/train2c\n"
     ]
    }
   ],
   "source": [
    "df_train = process_directory('../../data_raw/ldc_arb_gulf_cttr_2006_t15/transc/train2c')\n",
    "df_train.to_csv('../../data_raw/ldc_arb_gulf_cttr_2006_t15/train_processed.tsv', sep='\\t', index=False)"
   ]
  },
  {
   "cell_type": "code",
   "execution_count": 31,
   "metadata": {},
   "outputs": [
    {
     "name": "stdout",
     "output_type": "stream",
     "text": [
      "Unable to process 0 files in the following directory: ../../data_raw/ldc_arb_gulf_cttr_2006_t15/transc/devtest\n"
     ]
    }
   ],
   "source": [
    "df_devtest = process_directory('../../data_raw/ldc_arb_gulf_cttr_2006_t15/transc/devtest')\n",
    "df_devtest.to_csv('../../data_raw/ldc_arb_gulf_cttr_2006_t15/devtest_processed.tsv', sep='\\t', index=False)"
   ]
  },
  {
   "cell_type": "code",
   "execution_count": 2,
   "metadata": {},
   "outputs": [],
   "source": [
    "dp = DataProcess('../data_processed/ldc_arb_gulf_cttr_2006_t15/', 'user_level', 'speech_transcript', 'https://catalog.ldc.upenn.edu/LDC2006T15', 'ldc_arb_gulf_cttr_2006_t15', {},{},2, 'corpus', 'original')"
   ]
  },
  {
   "cell_type": "code",
   "execution_count": 29,
   "metadata": {},
   "outputs": [],
   "source": [
    "dp.save_file('train_processed.tsv', dp.preprocess('../../data_raw/ldc_arb_gulf_cttr_2006_t15/train_processed.tsv', '', '', 1, 0, header=0))\n",
    "dp.save_file('devtest_processed.tsv', dp.preprocess('../../data_raw/ldc_arb_gulf_cttr_2006_t15/devtest_processed.tsv', '', '', 1, 0, header=0))"
   ]
  },
  {
   "cell_type": "code",
   "execution_count": 8,
   "metadata": {},
   "outputs": [],
   "source": [
    "df_train = pd.read_csv('../data_processed/ldc_arb_gulf_cttr_2006_t15/train_processed.tsv', delimiter='\\t', header=0)\n",
    "df_train['split_original_manual'] = 'original'\n",
    "df_test = pd.read_csv('../data_processed/ldc_arb_gulf_cttr_2006_t15/devtest_processed.tsv', delimiter='\\t', header=0)\n",
    "df_test['split_original_manual'] = 'original'\n",
    "df_train.to_csv('../data_processed_splited/ldc_arb_gulf_cttr_2006_t15/train_processed.tsv', sep='\\t', index=False)\n",
    "df_test.to_csv('../data_processed_splited/ldc_arb_gulf_cttr_2006_t15/devtest_processed.tsv', sep='\\t',index=False)\n",
    "\n",
    "\n",
    "\n"
   ]
  },
  {
   "cell_type": "code",
   "execution_count": 9,
   "metadata": {},
   "outputs": [],
   "source": [
    "dp.save_features('../datasets_splited_features.tsv')"
   ]
  },
  {
   "cell_type": "code",
   "execution_count": null,
   "metadata": {},
   "outputs": [],
   "source": []
  }
 ],
 "metadata": {
  "kernelspec": {
   "display_name": "Python 3",
   "language": "python",
   "name": "python3"
  },
  "language_info": {
   "codemirror_mode": {
    "name": "ipython",
    "version": 3
   },
   "file_extension": ".py",
   "mimetype": "text/x-python",
   "name": "python",
   "nbconvert_exporter": "python",
   "pygments_lexer": "ipython3",
   "version": "3.8.2"
  }
 },
 "nbformat": 4,
 "nbformat_minor": 4
}
