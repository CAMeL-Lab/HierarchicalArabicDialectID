{
 "cells": [
  {
   "cell_type": "code",
   "execution_count": 8,
   "metadata": {},
   "outputs": [],
   "source": [
    "import csv\n",
    "import pandas as pd\n",
    "import os\n",
    "from camel_tools.tokenizers import word as tokenizer\n",
    "import sys\n",
    "# insert at 1, 0 is the script path (or '' in REPL)\n",
    "sys.path.append('/Users/nurpeiis/Desktop/Capstone/hierarchical-did/utils')\n",
    "from data_process import DataProcess\n",
    "import xml.etree.ElementTree as et"
   ]
  },
  {
   "cell_type": "code",
   "execution_count": 2,
   "metadata": {},
   "outputs": [],
   "source": [
    "dp = DataProcess('../data_processed_splited/aoc/', 'mechanical_turk_annotators', 'news_comments', 'https://www.cis.upenn.edu/~ccb/data/AOC-dialectal-annotations.zip', 'aoc', {},{},0, 'corpus', 'manual')"
   ]
  },
  {
   "cell_type": "code",
   "execution_count": 3,
   "metadata": {},
   "outputs": [],
   "source": [
    "dp.save_file('dialect_alghad-segs.tsv', dp.preprocess('../../data_raw/AOC-dialectal-annotations/dialect_alghad-segs.txt.norm', '', '', '', 'levant', header=None))\n",
    "dp.save_file('dialect_youm7-segs.tsv', dp.preprocess('../../data_raw/AOC-dialectal-annotations/dialect_youm7-segs.txt.norm', '', '', 'eg', 'nile_basin', header=None))\n",
    "dp.save_file('dialect_alriyadh-segs.tsv', dp.preprocess('../../data_raw/AOC-dialectal-annotations/dialect_alriyadh-segs.txt.norm', '', '', '', 'gulf', header=None))\n",
    "dp.save_file('MSA_alghad-segs.tsv', dp.preprocess('../../data_raw/AOC-dialectal-annotations/MSA_alghad-segs.txt.norm', 'msa', 'msa', 'msa', 'msa', header=None))\n",
    "dp.save_file('MSA_youm7-segs.tsv', dp.preprocess('../../data_raw/AOC-dialectal-annotations/MSA_youm7-segs.txt.norm', 'msa', 'msa', 'msa', 'msa', header=None))\n",
    "dp.save_file('MSA_alriyadh-segs.tsv', dp.preprocess('../../data_raw/AOC-dialectal-annotations/MSA_alriyadh-segs.txt.norm', 'msa', 'msa', 'msa', 'msa', header=None))\n",
    "\n"
   ]
  },
  {
   "cell_type": "code",
   "execution_count": 4,
   "metadata": {},
   "outputs": [],
   "source": [
    "files = ['dialect_alghad-segs.tsv', 'dialect_youm7-segs.tsv', 'dialect_alriyadh-segs.tsv', 'MSA_alghad-segs.tsv', 'MSA_youm7-segs.tsv', 'MSA_alriyadh-segs.tsv']\n",
    "for file in files:\n",
    "    df_train, df_dev, df_test = dp.split(file, 0.8, 0.1, 0.1)\n",
    "    dp.save_file('train_'+file, df_train)    \n",
    "    dp.save_file('dev_'+file, df_dev)\n",
    "    dp.save_file('test_'+file, df_test)"
   ]
  },
  {
   "cell_type": "code",
   "execution_count": 6,
   "metadata": {},
   "outputs": [],
   "source": [
    "dp.save_features('../datasets_splited_features.tsv')"
   ]
  },
  {
   "cell_type": "code",
   "execution_count": 16,
   "metadata": {},
   "outputs": [
    {
     "ename": "XMLSyntaxError",
     "evalue": "attributes construct error, line 292, column 109 (AOC_alghad-sample_articles.xml, line 292)",
     "output_type": "error",
     "traceback": [
      "Traceback \u001b[0;36m(most recent call last)\u001b[0m:\n",
      "  File \u001b[1;32m\"/Users/nurpeiis/miniconda3/envs/hierarchical-did/lib/python3.8/site-packages/IPython/core/interactiveshell.py\"\u001b[0m, line \u001b[1;32m3331\u001b[0m, in \u001b[1;35mrun_code\u001b[0m\n    exec(code_obj, self.user_global_ns, self.user_ns)\n",
      "  File \u001b[1;32m\"<ipython-input-16-b634528705e1>\"\u001b[0m, line \u001b[1;32m6\u001b[0m, in \u001b[1;35m<module>\u001b[0m\n    xtree = etree.parse('../../data_raw/AOC/AOC_v1.1/{}'.format(file))\n",
      "  File \u001b[1;32m\"src/lxml/etree.pyx\"\u001b[0m, line \u001b[1;32m3521\u001b[0m, in \u001b[1;35mlxml.etree.parse\u001b[0m\n",
      "  File \u001b[1;32m\"src/lxml/parser.pxi\"\u001b[0m, line \u001b[1;32m1839\u001b[0m, in \u001b[1;35mlxml.etree._parseDocument\u001b[0m\n",
      "  File \u001b[1;32m\"src/lxml/parser.pxi\"\u001b[0m, line \u001b[1;32m1865\u001b[0m, in \u001b[1;35mlxml.etree._parseDocumentFromURL\u001b[0m\n",
      "  File \u001b[1;32m\"src/lxml/parser.pxi\"\u001b[0m, line \u001b[1;32m1769\u001b[0m, in \u001b[1;35mlxml.etree._parseDocFromFile\u001b[0m\n",
      "  File \u001b[1;32m\"src/lxml/parser.pxi\"\u001b[0m, line \u001b[1;32m1163\u001b[0m, in \u001b[1;35mlxml.etree._BaseParser._parseDocFromFile\u001b[0m\n",
      "  File \u001b[1;32m\"src/lxml/parser.pxi\"\u001b[0m, line \u001b[1;32m601\u001b[0m, in \u001b[1;35mlxml.etree._ParserContext._handleParseResultDoc\u001b[0m\n",
      "  File \u001b[1;32m\"src/lxml/parser.pxi\"\u001b[0m, line \u001b[1;32m711\u001b[0m, in \u001b[1;35mlxml.etree._handleParseResult\u001b[0m\n",
      "\u001b[0;36m  File \u001b[0;32m\"src/lxml/parser.pxi\"\u001b[0;36m, line \u001b[0;32m640\u001b[0;36m, in \u001b[0;35mlxml.etree._raiseParseError\u001b[0;36m\u001b[0m\n",
      "\u001b[0;36m  File \u001b[0;32m\"../../data_raw/AOC/AOC_v1.1/AOC_alghad-sample_articles.xml\"\u001b[0;36m, line \u001b[0;32m292\u001b[0m\n\u001b[0;31m    <doc docid=\"alghad_500021_article\" articleURL=\"http://www.alghad.com/?news=500021\" htmlTitle=\"جريدة الغد - \"قوى\" المعوقين تشارك في بطولة الكويت الدولية\" date=\"22/04/2010\" time=\"00:54\">\u001b[0m\n\u001b[0m                                                                                                               ^\u001b[0m\n\u001b[0;31mXMLSyntaxError\u001b[0m\u001b[0;31m:\u001b[0m attributes construct error, line 292, column 109\n"
     ]
    }
   ],
   "source": [
    "from lxml import etree\n",
    "parser = etree.XMLParser(recover=True)\n",
    "\n",
    "\n",
    "file = 'AOC_alghad-sample_articles.xml'\n",
    "xtree = etree.parse('../../data_raw/AOC/AOC_v1.1/{}'.format(file))\n",
    "xroot = xtree.getroot()\n",
    "print(xroot)\n",
    "rows = []\n",
    "for node in xroot.findall(\"seg\"):\n",
    "    l = node.text\n",
    "    rows.append({\"original_sentence\": line})\n",
    "    print(l)\n",
    "        "
   ]
  },
  {
   "cell_type": "code",
   "execution_count": null,
   "metadata": {},
   "outputs": [],
   "source": []
  }
 ],
 "metadata": {
  "kernelspec": {
   "display_name": "Python 3",
   "language": "python",
   "name": "python3"
  },
  "language_info": {
   "codemirror_mode": {
    "name": "ipython",
    "version": 3
   },
   "file_extension": ".py",
   "mimetype": "text/x-python",
   "name": "python",
   "nbconvert_exporter": "python",
   "pygments_lexer": "ipython3",
   "version": "3.8.2"
  }
 },
 "nbformat": 4,
 "nbformat_minor": 4
}
