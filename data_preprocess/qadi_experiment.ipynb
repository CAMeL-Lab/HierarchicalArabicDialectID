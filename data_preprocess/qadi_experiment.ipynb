{
 "cells": [
  {
   "cell_type": "code",
   "execution_count": 5,
   "metadata": {},
   "outputs": [],
   "source": [
    "import re\n",
    "import csv\n",
    "import pandas as pd\n",
    "import os\n",
    "from camel_tools.utils import charsets\n",
    "import xml.etree.ElementTree as et\n",
    "import sys\n",
    "import subprocess\n",
    "# insert at 1, 0 is the script path (or '' in REPL)\n",
    "sys.path.append('/Users/nurpeiis/Desktop/Capstone/hierarchical-did/utils')\n",
    "from data_process import DataProcess"
   ]
  },
  {
   "cell_type": "code",
   "execution_count": 9,
   "metadata": {},
   "outputs": [],
   "source": [
    "files = os.listdir('../../data_raw/qadi_country/dataset')\n",
    "for file in files:\n",
    "    os.system('twarc hydrate ../../data_raw/qadi_country/dataset/' + file + '> ../../data_raw/qadi_country/train_json/' + file[:-3] + 'json')"
   ]
  },
  {
   "cell_type": "code",
   "execution_count": 12,
   "metadata": {},
   "outputs": [],
   "source": [
    "import json\n",
    "# Step 1: Preprocess json trainset\n",
    "files = [i for i in os.listdir('../../data_raw/qadi_country/train_json') if i[-4:] == 'json']\n",
    "df = pd.DataFrame(columns={'original_sentence', 'dialect_country_id'})\n",
    "for file in files:\n",
    "    dialect = file[15:-5]\n",
    "    with open('../../data_raw/qadi_country/train_json/' + file) as f:\n",
    "        lines = f.read().splitlines()\n",
    "    final = []\n",
    "    sentences = []\n",
    "    for l in lines:\n",
    "        final.append(json.loads(l))\n",
    "        sentences.append(json.loads(l)['full_text'])\n",
    "    df_temp = pd.DataFrame(columns={'original_sentence', 'dialect_country_id'})\n",
    "    df_temp['original_sentence'] = sentences\n",
    "    df_temp['dialect_country_id'] = dialect\n",
    "    df = df.append(df_temp, ignore_index=True)"
   ]
  },
  {
   "cell_type": "code",
   "execution_count": 13,
   "metadata": {},
   "outputs": [
    {
     "data": {
      "text/html": [
       "<div>\n",
       "<style scoped>\n",
       "    .dataframe tbody tr th:only-of-type {\n",
       "        vertical-align: middle;\n",
       "    }\n",
       "\n",
       "    .dataframe tbody tr th {\n",
       "        vertical-align: top;\n",
       "    }\n",
       "\n",
       "    .dataframe thead th {\n",
       "        text-align: right;\n",
       "    }\n",
       "</style>\n",
       "<table border=\"1\" class=\"dataframe\">\n",
       "  <thead>\n",
       "    <tr style=\"text-align: right;\">\n",
       "      <th></th>\n",
       "      <th>original_sentence</th>\n",
       "      <th>dialect_country_id</th>\n",
       "    </tr>\n",
       "  </thead>\n",
       "  <tbody>\n",
       "    <tr>\n",
       "      <th>0</th>\n",
       "      <td>@naif_su جيد أنه أعجبك وهنيئا لك \\nوالناس يختل...</td>\n",
       "      <td>LB</td>\n",
       "    </tr>\n",
       "    <tr>\n",
       "      <th>1</th>\n",
       "      <td>@Mef_4500 @_Health_8 ما فهمت الموضوع عفوا</td>\n",
       "      <td>LB</td>\n",
       "    </tr>\n",
       "    <tr>\n",
       "      <th>2</th>\n",
       "      <td>@iS5Pym1qiiVtGbF صحيح، هو بدون سكر لكن فيه مُح...</td>\n",
       "      <td>LB</td>\n",
       "    </tr>\n",
       "    <tr>\n",
       "      <th>3</th>\n",
       "      <td>@haso1181 صحيح يا غالي وهو متوفر من فترة في مح...</td>\n",
       "      <td>LB</td>\n",
       "    </tr>\n",
       "    <tr>\n",
       "      <th>4</th>\n",
       "      <td>@wail_alhazmi ربي يسلمك ويكرمك ويرفع قدرك ويسع...</td>\n",
       "      <td>LB</td>\n",
       "    </tr>\n",
       "    <tr>\n",
       "      <th>...</th>\n",
       "      <td>...</td>\n",
       "      <td>...</td>\n",
       "    </tr>\n",
       "    <tr>\n",
       "      <th>496460</th>\n",
       "      <td>@lwmUMSZ8BOTH1tD @Rami_Dalati قلنالو\\nبس ما يس...</td>\n",
       "      <td>SY</td>\n",
       "    </tr>\n",
       "    <tr>\n",
       "      <th>496461</th>\n",
       "      <td>رامي دالاتي ليس اشرف من عبدالجليل السعيد\\nواحد...</td>\n",
       "      <td>SY</td>\n",
       "    </tr>\n",
       "    <tr>\n",
       "      <th>496462</th>\n",
       "      <td>رامي دالاتي كلب جعاري https://t.co/zCHCgOP2Jp</td>\n",
       "      <td>SY</td>\n",
       "    </tr>\n",
       "    <tr>\n",
       "      <th>496463</th>\n",
       "      <td>@hh66063383 @Rami_Dalati ابو اسلام \\nاذا امك ش...</td>\n",
       "      <td>SY</td>\n",
       "    </tr>\n",
       "    <tr>\n",
       "      <th>496464</th>\n",
       "      <td>@cay29f8mymi @anasaldogheim نطفة البعث داخلة ب...</td>\n",
       "      <td>SY</td>\n",
       "    </tr>\n",
       "  </tbody>\n",
       "</table>\n",
       "<p>496465 rows × 2 columns</p>\n",
       "</div>"
      ],
      "text/plain": [
       "                                        original_sentence dialect_country_id\n",
       "0       @naif_su جيد أنه أعجبك وهنيئا لك \\nوالناس يختل...                 LB\n",
       "1               @Mef_4500 @_Health_8 ما فهمت الموضوع عفوا                 LB\n",
       "2       @iS5Pym1qiiVtGbF صحيح، هو بدون سكر لكن فيه مُح...                 LB\n",
       "3       @haso1181 صحيح يا غالي وهو متوفر من فترة في مح...                 LB\n",
       "4       @wail_alhazmi ربي يسلمك ويكرمك ويرفع قدرك ويسع...                 LB\n",
       "...                                                   ...                ...\n",
       "496460  @lwmUMSZ8BOTH1tD @Rami_Dalati قلنالو\\nبس ما يس...                 SY\n",
       "496461  رامي دالاتي ليس اشرف من عبدالجليل السعيد\\nواحد...                 SY\n",
       "496462      رامي دالاتي كلب جعاري https://t.co/zCHCgOP2Jp                 SY\n",
       "496463  @hh66063383 @Rami_Dalati ابو اسلام \\nاذا امك ش...                 SY\n",
       "496464  @cay29f8mymi @anasaldogheim نطفة البعث داخلة ب...                 SY\n",
       "\n",
       "[496465 rows x 2 columns]"
      ]
     },
     "execution_count": 13,
     "metadata": {},
     "output_type": "execute_result"
    }
   ],
   "source": [
    "df"
   ]
  },
  {
   "cell_type": "code",
   "execution_count": null,
   "metadata": {},
   "outputs": [],
   "source": []
  }
 ],
 "metadata": {
  "kernelspec": {
   "display_name": "Python 3",
   "language": "python",
   "name": "python3"
  },
  "language_info": {
   "codemirror_mode": {
    "name": "ipython",
    "version": 3
   },
   "file_extension": ".py",
   "mimetype": "text/x-python",
   "name": "python",
   "nbconvert_exporter": "python",
   "pygments_lexer": "ipython3",
   "version": "3.8.2"
  }
 },
 "nbformat": 4,
 "nbformat_minor": 4
}
