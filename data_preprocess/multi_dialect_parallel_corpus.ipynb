{
 "cells": [
  {
   "cell_type": "code",
   "execution_count": 1,
   "metadata": {},
   "outputs": [],
   "source": [
    "import csv\n",
    "import pandas as pd\n",
    "import os\n",
    "import sys\n",
    "# insert at 1, 0 is the script path (or '' in REPL)\n",
    "sys.path.append('/Users/nurpeiis/Desktop/Capstone/hierarchical-did/utils')\n",
    "from data_process import DataProcess\n"
   ]
  },
  {
   "cell_type": "code",
   "execution_count": 2,
   "metadata": {},
   "outputs": [],
   "source": [
    "dp = DataProcess('../data_processed_splited/multi_dialect_parallel_corpus/', 'manual_translation', 'ldc_mixed', 'https://www.aclweb.org/anthology/L14-1435/', \n",
    "                 'multi_dialect_parallel_corpus', {},{},0, 'corpus', 'manual')"
   ]
  },
  {
   "cell_type": "code",
   "execution_count": 3,
   "metadata": {},
   "outputs": [],
   "source": [
    "files = os.listdir('../data_processed/multi_dialect_parallel_corpus/')\n",
    "for file in files:\n",
    "    df = pd.read_csv('../data_processed/multi_dialect_parallel_corpus/'+file, delimiter='\\t', header=0, index_col=0)\n",
    "    df['split_original_manual'] = 'manual'\n",
    "    df.to_csv('../data_processed_splited/multi_dialect_parallel_corpus/'+file, sep='\\t')"
   ]
  },
  {
   "cell_type": "code",
   "execution_count": 4,
   "metadata": {},
   "outputs": [],
   "source": [
    "dp.save_features('../datasets_splited_features.tsv')"
   ]
  },
  {
   "cell_type": "code",
   "execution_count": 5,
   "metadata": {},
   "outputs": [],
   "source": [
    "files = os.listdir('../data_processed_splited/multi_dialect_parallel_corpus/')\n",
    "for file in files:\n",
    "    df_train, df_dev, df_test = dp.split(file, 0.8, 0.1, 0.1)\n",
    "    dp.save_file('train_'+file, df_train)    \n",
    "    dp.save_file('dev_'+file, df_dev)\n",
    "    dp.save_file('test_'+file, df_test)"
   ]
  },
  {
   "cell_type": "code",
   "execution_count": 4,
   "metadata": {},
   "outputs": [
    {
     "name": "stdout",
     "output_type": "stream",
     "text": [
      "After 1000\n",
      "Before 1000\n",
      "After 998\n",
      "Before 998\n",
      "After 1000\n",
      "Before 1000\n",
      "After 983\n",
      "Before 983\n",
      "After 1000\n",
      "Before 1000\n",
      "After 1000\n",
      "Before 1000\n"
     ]
    }
   ],
   "source": [
    "files = ['EG', 'JO', 'MSA', 'PA', 'SY', 'TN']\n",
    "folder_name = '../../data_raw/MultiDialParCorpus/'\n",
    "for f in files:\n",
    "    if f == 'MSA':\n",
    "        dp.save_file(f +'.tsv', dp.preprocess(folder_name + f, f, f, f, f, header=None))\n",
    "    \n",
    "    else:\n",
    "        dp.save_file(f +'.tsv', dp.preprocess(folder_name + f, '', '', f, '', header=None))\n",
    "\n",
    "\n"
   ]
  }
 ],
 "metadata": {
  "kernelspec": {
   "display_name": "Python 3",
   "language": "python",
   "name": "python3"
  },
  "language_info": {
   "codemirror_mode": {
    "name": "ipython",
    "version": 3
   },
   "file_extension": ".py",
   "mimetype": "text/x-python",
   "name": "python",
   "nbconvert_exporter": "python",
   "pygments_lexer": "ipython3",
   "version": "3.8.2"
  }
 },
 "nbformat": 4,
 "nbformat_minor": 4
}
