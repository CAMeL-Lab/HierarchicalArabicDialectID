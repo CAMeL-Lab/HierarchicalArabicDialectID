{
 "cells": [
  {
   "cell_type": "code",
   "execution_count": 2,
   "metadata": {},
   "outputs": [],
   "source": [
    "import re\n",
    "import csv\n",
    "import pandas as pd\n",
    "import numpy as np\n",
    "import os\n",
    "from camel_tools.utils import charsets\n",
    "import xml.etree.ElementTree as et\n",
    "import sys\n",
    "import subprocess\n",
    "# insert at 1, 0 is the script path (or '' in REPL)\n",
    "sys.path.append('/Users/nurpeiis/Desktop/Capstone/hierarchical-did/utils')\n",
    "from data_process import DataProcess"
   ]
  },
  {
   "cell_type": "code",
   "execution_count": 17,
   "metadata": {},
   "outputs": [],
   "source": [
    "def preprocess(filename):\n",
    "    df = pd.read_csv('../../data_raw/MADAR-SHARED-TASK/MADAR-Shared-Task-Subtask-2/{}.tsv'.format(filename), delimiter='\\t')\n",
    "    ar_letters = charsets.AR_LETTERS_CHARSET\n",
    "    reg=re.compile('^[{}]+$'.format(ar_letters))\n",
    "    for i in range(len(df.iloc[:, 5])):\n",
    "        word = df.iloc[:, 5][i].split()\n",
    "        line = \"\"\n",
    "        for w in word:\n",
    "            if reg.match(w):\n",
    "                line += w + \" \"\n",
    "        line = line[:-1]\n",
    "        df.iloc[:, 5][i] = line\n",
    "    df.to_csv('../../data_raw/MADAR-SHARED-TASK/MADAR-Shared-Task-Subtask-2/{}_preprocessed.tsv'.format(filename), sep='\\t', index=False)\n",
    "    return df"
   ]
  },
  {
   "cell_type": "code",
   "execution_count": 18,
   "metadata": {},
   "outputs": [
    {
     "name": "stderr",
     "output_type": "stream",
     "text": [
      "<ipython-input-17-9d5d0ad21cae>:12: SettingWithCopyWarning: \n",
      "A value is trying to be set on a copy of a slice from a DataFrame\n",
      "\n",
      "See the caveats in the documentation: https://pandas.pydata.org/pandas-docs/stable/user_guide/indexing.html#returning-a-view-versus-a-copy\n",
      "  df.iloc[:, 5][i] = line\n"
     ]
    }
   ],
   "source": [
    "df_dev = preprocess('dev')\n",
    "df_train = preprocess('train')\n",
    "df_test = preprocess('test')"
   ]
  },
  {
   "cell_type": "code",
   "execution_count": 24,
   "metadata": {},
   "outputs": [],
   "source": [
    "df_train = pd.read_csv('../../data_raw/MADAR-SHARED-TASK/MADAR-Shared-Task-Subtask-2/train_preprocessed.tsv', delimiter='\\t')\n",
    "df_dev = pd.read_csv('../../data_raw/MADAR-SHARED-TASK/MADAR-Shared-Task-Subtask-2/dev_preprocessed.tsv', delimiter='\\t')\n",
    "df_test = pd.read_csv('../../data_raw/MADAR-SHARED-TASK/MADAR-Shared-Task-Subtask-2/test_preprocessed.tsv', delimiter='\\t')\n",
    "cities = df_train.columns.values[3].replace('#4 Features ', '').split(',')\n"
   ]
  },
  {
   "cell_type": "code",
   "execution_count": 32,
   "metadata": {},
   "outputs": [],
   "source": [
    "def more_preprocess(df_input, filename):\n",
    "    df = pd.DataFrame(columns=['original_sentence', 'dialect_city_id', 'dialect_country_id'])\n",
    "    def split_city(s):\n",
    "        vals = [float(i) if i != '<NIL>'  else 0.0 for i in s.split(',')]\n",
    "        index = np.where(vals == np.amax(vals))[0][0]\n",
    "        return cities[index]\n",
    "    df['dialect_city_id'] = df_input.iloc[:, 3].apply(split_city)\n",
    "    df['original_sentence'] = df_input.iloc[:, 5]\n",
    "    df['dialect_country_id'] = df_input.iloc[:, 4]\n",
    "    df.to_csv('../../data_raw/MADAR-SHARED-TASK/MADAR-Shared-Task-Subtask-2/{}_processed.tsv'.format(filename), sep='\\t', index=False)"
   ]
  },
  {
   "cell_type": "code",
   "execution_count": 33,
   "metadata": {},
   "outputs": [],
   "source": [
    "more_preprocess(df_train, 'train')\n",
    "more_preprocess(df_test, 'test')\n",
    "more_preprocess(df_dev, 'dev')"
   ]
  },
  {
   "cell_type": "code",
   "execution_count": 3,
   "metadata": {},
   "outputs": [],
   "source": [
    "dp = DataProcess('../data_processed_splited/madar_shared_task2/', 'user_level', 'twitter', 'https://camel.abudhabi.nyu.edu/madar-shared-task-2019/', 'madar_shared_task2', {},{},0, 'corpus', 'original')"
   ]
  },
  {
   "cell_type": "code",
   "execution_count": 2,
   "metadata": {},
   "outputs": [],
   "source": [
    "files = os.listdir('../data_processed/madar_shared_task2/')\n",
    "for file in files:\n",
    "    df = pd.read_csv('../data_processed/madar_shared_task2/'+file, delimiter='\\t', header=0, index_col=0)\n",
    "    df['split_original_manual'] = 'original'\n",
    "    df.to_csv('../data_processed_splited/madar_shared_task2/'+file, sep='\\t')"
   ]
  },
  {
   "cell_type": "code",
   "execution_count": 38,
   "metadata": {},
   "outputs": [],
   "source": [
    "dp.save_file('train_processed.tsv', dp.preprocess('../../data_raw/MADAR-SHARED-TASK/MADAR-Shared-Task-Subtask-2/train_processed.tsv', 1, '', 2, '', header=0))\n",
    "dp.save_file('dev_processed.tsv', dp.preprocess('../../data_raw/MADAR-SHARED-TASK/MADAR-Shared-Task-Subtask-2/dev_processed.tsv', 1, '', 2, '', header=0))\n",
    "dp.save_file('test_processed.tsv', dp.preprocess('../../data_raw/MADAR-SHARED-TASK/MADAR-Shared-Task-Subtask-2/test_processed.tsv', 1, '', 2, '', header=0))"
   ]
  },
  {
   "cell_type": "code",
   "execution_count": 6,
   "metadata": {},
   "outputs": [],
   "source": [
    "dp.save_features('../datasets_splited_features.tsv')"
   ]
  },
  {
   "cell_type": "code",
   "execution_count": 2,
   "metadata": {},
   "outputs": [],
   "source": [
    "#Change Tripoli to Lybian tripoli rather than Lebanon\n",
    "folder = '../data_processed/madar_shared_task2/'\n",
    "files = os.listdir(folder)\n",
    "for file in files:\n",
    "    df = pd.read_csv(f'{folder}{file}', delimiter='\\t', header=0)\n",
    "    for index, row in df.iterrows():\n",
    "        if row['dialect_city_id'] == 'tripoli_west':\n",
    "            row['dialect_city_id'] = 'tripoli'\n",
    "            row['dialect_province_id'] = 'tripoli'\n",
    "            row['dialect_country_id'] = 'ly'\n",
    "            row['dialect_region_id'] = 'maghreb'\n",
    "    df.to_csv(f'{folder}{file}', sep='\\t', index=False)"
   ]
  },
  {
   "cell_type": "code",
   "execution_count": 3,
   "metadata": {},
   "outputs": [],
   "source": [
    "#Change Ad Dahwan to Doha tripoli rather than Lebanon\n",
    "folder = '../data_processed/madar_shared_task2/'\n",
    "files = os.listdir(folder)\n",
    "for file in files:\n",
    "    df = pd.read_csv(f'{folder}{file}', delimiter='\\t', header=0)\n",
    "    for index, row in df.iterrows():\n",
    "        if row['dialect_province_id'] == 'ad_dawhah':\n",
    "            row['dialect_province_id'] = 'doha'\n",
    "    df.to_csv(f'{folder}{file}', sep='\\t', index=False)"
   ]
  },
  {
   "cell_type": "code",
   "execution_count": null,
   "metadata": {},
   "outputs": [],
   "source": []
  }
 ],
 "metadata": {
  "kernelspec": {
   "display_name": "Python 3",
   "language": "python",
   "name": "python3"
  },
  "language_info": {
   "codemirror_mode": {
    "name": "ipython",
    "version": 3
   },
   "file_extension": ".py",
   "mimetype": "text/x-python",
   "name": "python",
   "nbconvert_exporter": "python",
   "pygments_lexer": "ipython3",
   "version": "3.8.2"
  }
 },
 "nbformat": 4,
 "nbformat_minor": 4
}
