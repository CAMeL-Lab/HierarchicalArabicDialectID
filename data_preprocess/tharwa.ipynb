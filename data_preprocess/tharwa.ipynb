{
 "cells": [
  {
   "cell_type": "code",
   "execution_count": 3,
   "metadata": {},
   "outputs": [],
   "source": [
    "import csv\n",
    "import pandas as pd\n",
    "import os\n",
    "from camel_tools.tokenizers import word as tokenizer\n",
    "import sys\n",
    "# insert at 1, 0 is the script path (or '' in REPL)\n",
    "sys.path.append('/Users/nurpeiis/Desktop/Capstone/hierarchical-did/utils')\n",
    "from data_process import DataProcess"
   ]
  },
  {
   "cell_type": "code",
   "execution_count": 5,
   "metadata": {},
   "outputs": [],
   "source": [
    "dp_egyptian = DataProcess('../data_processed/tharwa/', 'word_level', 'dictionary_mixed', 'https://www.aclweb.org/anthology/L14-1115/', 'tharwa', {},{},[1,3], 'lexicon')\n",
    "dp_lev = DataProcess('../data_processed/tharwa/', 'word_level', 'dictionary_mixed', 'https://www.aclweb.org/anthology/L14-1115/', 'tharwa', {},{},[24,26], 'lexicon')\n",
    "\n"
   ]
  },
  {
   "cell_type": "code",
   "execution_count": 6,
   "metadata": {},
   "outputs": [],
   "source": [
    "dp_egyptian.save_file('Tharwa-v0.2.tsv', dp_egyptian.preprocess('../../data_raw/Tharwa-v0.2+LEV/Tharwa-v0.2.tsv', '', '', 'Egyptian', 'Egyptian', header=0))\n",
    "dp_lev.save_file('Tharwa+Lev.tsv', dp_lev.preprocess('../../data_raw/Tharwa-v0.2+LEV/Tharwa+Lev.tsv', '', '', '', 'Levantine', header=0))\n"
   ]
  },
  {
   "cell_type": "code",
   "execution_count": 7,
   "metadata": {},
   "outputs": [],
   "source": [
    "dp_lev.save_features('../datasets_features.tsv')"
   ]
  }
 ],
 "metadata": {
  "kernelspec": {
   "display_name": "Python 3",
   "language": "python",
   "name": "python3"
  },
  "language_info": {
   "codemirror_mode": {
    "name": "ipython",
    "version": 3
   },
   "file_extension": ".py",
   "mimetype": "text/x-python",
   "name": "python",
   "nbconvert_exporter": "python",
   "pygments_lexer": "ipython3",
   "version": "3.8.2"
  }
 },
 "nbformat": 4,
 "nbformat_minor": 4
}
