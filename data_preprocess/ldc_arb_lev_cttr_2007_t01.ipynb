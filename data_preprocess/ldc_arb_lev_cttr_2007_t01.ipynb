{
 "cells": [
  {
   "cell_type": "code",
   "execution_count": 2,
   "metadata": {},
   "outputs": [],
   "source": [
    "import re\n",
    "import csv\n",
    "import pandas as pd\n",
    "import os\n",
    "from camel_tools.utils import charsets\n",
    "import sys\n",
    "# insert at 1, 0 is the script path (or '' in REPL)\n",
    "sys.path.append('/Users/nurpeiis/Desktop/Capstone/hierarchical-did/utils')\n",
    "from data_process import DataProcess"
   ]
  },
  {
   "cell_type": "code",
   "execution_count": 12,
   "metadata": {},
   "outputs": [],
   "source": [
    "def get_speakers_info():\n",
    "    df= pd.read_csv('../../data_raw/ldc_arb_lev_cttr_2007_t01/docs/training_calls.tab', delimiter='\\t') \n",
    "    df_speaker_info = pd.DataFrame()\n",
    "    df_speaker_info['filename'] = df['File-ID'].apply(lambda x: x.replace('-', '_'))    \n",
    "    df_speaker_info['A'] = df['A-Region']  \n",
    "    df_speaker_info['B'] = df['B-Region']\n",
    "    df_devtest= pd.read_csv('../../data_raw/ldc_arb_lev_cttr_2007_t01/docs/devtest_calls.tab', delimiter='\\t') #in line 4 of the file delete extra tabs from Places to go\n",
    "    df_speaker_info_devtest = pd.DataFrame()\n",
    "    df_speaker_info_devtest['filename'] = df_devtest['File-ID'].apply(lambda x: x.replace('-', '_'))       \n",
    "    df_speaker_info_devtest['A'] = df_devtest['A-Region']  \n",
    "    df_speaker_info_devtest['B'] = df_devtest['B-Region']\n",
    "    df_speaker_info = df_speaker_info.append(df_speaker_info_devtest, ignore_index=True)\n",
    "    return df_speaker_info\n",
    "#get_speakers_info()"
   ]
  },
  {
   "cell_type": "code",
   "execution_count": 13,
   "metadata": {},
   "outputs": [],
   "source": [
    "def speakers_split(path_to_directory, filename):\n",
    "    # Cleaning data and splitting between speaker A and B\n",
    "    with open('{}/{}'.format(path_to_directory, filename)) as f:\n",
    "        try:\n",
    "            lines_raw = f.read().splitlines()\n",
    "        except:\n",
    "            return False\n",
    "        lines = [i for i in lines_raw if i] \n",
    "    ar_letters = charsets.AR_LETTERS_CHARSET\n",
    "    reg=re.compile('^[{}]+$'.format(ar_letters))\n",
    "    speakers = {'A': [], 'B': []}\n",
    "    curr_speaker = 'A'\n",
    "    for l in lines:\n",
    "        word = l.split()\n",
    "        line = \"\"\n",
    "        for w in word:\n",
    "            if w == 'A:' or w == 'B:' or reg.match(w):\n",
    "                line += w + \" \"\n",
    "        line = line[:-1]\n",
    "        if 'A:' in line:\n",
    "            curr_speaker = 'A'\n",
    "            line = line.replace('A:','')\n",
    "        elif 'B:' in line:\n",
    "            curr_speaker = 'B'            \n",
    "            line = line.replace('B:','')\n",
    "        line = line.replace('tnfs', '')\n",
    "        #print(line)\n",
    "        #Get only lines that are purely in Arabic\n",
    "        line = line.replace('(', '')        \n",
    "        line = line.replace(')', '')\n",
    "        #print(line)\n",
    "        if re.match(\"[\\(A-Za-z]\", line) == None and line != '':\n",
    "            speakers[curr_speaker].append(line)\n",
    "    return speakers\n",
    "#speakers_split('../../data_raw/ldc_arb_lev_cttr_2007_t01/data/transc/train2c/', 'arb_lev-20040709_081508.txt')"
   ]
  },
  {
   "cell_type": "code",
   "execution_count": 14,
   "metadata": {},
   "outputs": [],
   "source": [
    "def get_processed(speakers, country_a, country_b):\n",
    "    df_processed = pd.DataFrame()\n",
    "    df_processed['original_sentence'] = speakers['A']\n",
    "    df_processed['dialect_country_id'] = country_a\n",
    "    df_processed['dialect_region_id'] = 'Levantine'\n",
    "    df_processed_b = pd.DataFrame()\n",
    "    df_processed_b['original_sentence'] = speakers['B']\n",
    "    df_processed_b['dialect_country_id'] = country_b\n",
    "    df_processed_b['dialect_region_id'] = 'Levantine'\n",
    "\n",
    "    df_processed = df_processed.append(df_processed_b, ignore_index=True)\n",
    "    return df_processed"
   ]
  },
  {
   "cell_type": "code",
   "execution_count": 21,
   "metadata": {},
   "outputs": [],
   "source": [
    "def process_directory(path_to_directory):\n",
    "    df = pd.DataFrame(columns={'original_sentence', 'dialect_country_id', 'dialect_region_id'})\n",
    "\n",
    "    df_speakers = get_speakers_info()\n",
    "    counter_bad = 0\n",
    "    files = os.listdir(path_to_directory)\n",
    "    for f in files:\n",
    "        try:\n",
    "            country_a = df_speakers.loc[df_speakers[\"filename\"] == f[:-4].replace('-', '_')].iloc[0]['A']\n",
    "            country_b = df_speakers.loc[df_speakers[\"filename\"] == f[:-4].replace('-', '_')].iloc[0]['B']\n",
    "            speakers = speakers_split(path_to_directory, f)\n",
    "            if speakers:\n",
    "                df = df.append(get_processed(speakers, country_a, country_b), ignore_index=True)\n",
    "            else:\n",
    "                counter_bad += 1\n",
    "        except:\n",
    "            print(\"Bad\", f)\n",
    "            continue\n",
    "    print('Unable to process {} files in the following directory: {}'.format(counter_bad, path_to_directory))\n",
    "    return df"
   ]
  },
  {
   "cell_type": "code",
   "execution_count": 23,
   "metadata": {},
   "outputs": [
    {
     "name": "stdout",
     "output_type": "stream",
     "text": [
      "Unable to process 0 files in the following directory: ../../data_raw/ldc_arb_lev_cttr_2007_t01/data/transc/train2c\n"
     ]
    }
   ],
   "source": [
    "df_train = process_directory('../../data_raw/ldc_arb_lev_cttr_2007_t01/data/transc/train2c')\n",
    "df_train.to_csv('../../data_raw/ldc_arb_lev_cttr_2007_t01/train_processed.tsv', sep='\\t', index=False)"
   ]
  },
  {
   "cell_type": "code",
   "execution_count": 25,
   "metadata": {},
   "outputs": [
    {
     "name": "stdout",
     "output_type": "stream",
     "text": [
      "Unable to process 0 files in the following directory: ../../data_raw/ldc_arb_lev_cttr_2007_t01/data/transc/devtest\n"
     ]
    }
   ],
   "source": [
    "df_devtest = process_directory('../../data_raw/ldc_arb_lev_cttr_2007_t01/data/transc/devtest')\n",
    "df_devtest.to_csv('../../data_raw/ldc_arb_lev_cttr_2007_t01/devtest_processed.tsv', sep='\\t', index=False)"
   ]
  },
  {
   "cell_type": "code",
   "execution_count": 3,
   "metadata": {},
   "outputs": [],
   "source": [
    "dp = DataProcess('../data_processed/ldc_arb_lev_cttr_2007_t01/', 'user_level', 'speech_transcript', 'https://catalog.ldc.upenn.edu/LDC2007T01', 'ldc_arb_lev_cttr_2007_t01', {},{},1, 'corpus', 'original')"
   ]
  },
  {
   "cell_type": "code",
   "execution_count": 28,
   "metadata": {},
   "outputs": [],
   "source": [
    "dp.save_file('train_processed.tsv', dp.preprocess('../../data_raw/ldc_arb_lev_cttr_2007_t01/train_processed.tsv', '', '', 0, 2, header=0))\n",
    "dp.save_file('devtest_processed.tsv', dp.preprocess('../../data_raw/ldc_arb_lev_cttr_2007_t01/devtest_processed.tsv', '', '', 0, 2, header=0))"
   ]
  },
  {
   "cell_type": "code",
   "execution_count": 4,
   "metadata": {},
   "outputs": [],
   "source": [
    "df_train = pd.read_csv('../data_processed/ldc_arb_lev_cttr_2007_t01/train_processed.tsv', delimiter='\\t', header=0)\n",
    "df_train['split_original_manual'] = 'original'\n",
    "df_test = pd.read_csv('../data_processed/ldc_arb_lev_cttr_2007_t01/devtest_processed.tsv', delimiter='\\t', header=0)\n",
    "df_test['split_original_manual'] = 'original'\n",
    "df_train.to_csv('../data_processed_splited/ldc_arb_lev_cttr_2007_t01/train_processed.tsv', sep='\\t', index=False)\n",
    "df_test.to_csv('../data_processed_splited/ldc_arb_lev_cttr_2007_t01/devtest_processed.tsv', sep='\\t',index=False)\n",
    "\n",
    "\n",
    "\n"
   ]
  },
  {
   "cell_type": "code",
   "execution_count": 5,
   "metadata": {},
   "outputs": [],
   "source": [
    "dp.save_features('../datasets_splited_features.tsv')"
   ]
  },
  {
   "cell_type": "code",
   "execution_count": null,
   "metadata": {},
   "outputs": [],
   "source": []
  }
 ],
 "metadata": {
  "kernelspec": {
   "display_name": "Python 3",
   "language": "python",
   "name": "python3"
  },
  "language_info": {
   "codemirror_mode": {
    "name": "ipython",
    "version": 3
   },
   "file_extension": ".py",
   "mimetype": "text/x-python",
   "name": "python",
   "nbconvert_exporter": "python",
   "pygments_lexer": "ipython3",
   "version": "3.8.2"
  }
 },
 "nbformat": 4,
 "nbformat_minor": 4
}
