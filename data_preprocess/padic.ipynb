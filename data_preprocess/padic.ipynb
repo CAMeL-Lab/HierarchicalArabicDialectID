{
 "cells": [
  {
   "cell_type": "code",
   "execution_count": 1,
   "metadata": {},
   "outputs": [],
   "source": [
    "import csv\n",
    "import pandas as pd\n",
    "import os\n",
    "from camel_tools.tokenizers import word as tokenizer\n",
    "import sys\n",
    "# insert at 1, 0 is the script path (or '' in REPL)\n",
    "sys.path.append('/Users/nurpeiis/Desktop/Capstone/hierarchical-did/utils')\n",
    "from data_process import DataProcess"
   ]
  },
  {
   "cell_type": "code",
   "execution_count": 2,
   "metadata": {},
   "outputs": [],
   "source": [
    "dp = DataProcess('../data_processed_splited/padic/', 'manual_translation', 'speech_transcript', 'https://hal.archives-ouvertes.fr/hal-01718858', 'padic', {},{},0, 'corpus', 'manual')"
   ]
  },
  {
   "cell_type": "code",
   "execution_count": 3,
   "metadata": {},
   "outputs": [],
   "source": [
    "files = os.listdir('../data_processed/padic/')\n",
    "for file in files:\n",
    "    df = pd.read_csv('../data_processed/padic/'+file, delimiter='\\t', header=0, index_col=0)\n",
    "    df['split_original_manual'] = 'manual'\n",
    "    df.to_csv('../data_processed_splited/padic/'+file, sep='\\t')"
   ]
  },
  {
   "cell_type": "code",
   "execution_count": 4,
   "metadata": {},
   "outputs": [],
   "source": [
    "files = os.listdir('../data_processed_splited/padic/')\n",
    "for file in files:\n",
    "    df_train, df_dev, df_test = dp.split(file, 0.8, 0.1, 0.1)\n",
    "    dp.save_file('train_'+file, df_train)    \n",
    "    dp.save_file('dev_'+file, df_dev)\n",
    "    dp.save_file('test_'+file, df_test)"
   ]
  },
  {
   "cell_type": "code",
   "execution_count": 5,
   "metadata": {},
   "outputs": [],
   "source": [
    "dp.save_features('../datasets_splited_features.tsv')"
   ]
  },
  {
   "cell_type": "code",
   "execution_count": 2,
   "metadata": {},
   "outputs": [],
   "source": [
    "dp_msa = DataProcess('../data_processed/padic/', 'manual_translation', 'speech_transcript', 'https://hal.archives-ouvertes.fr/hal-01718858', 'padic', {},{},0, 'corpus')\n",
    "dp_alg = DataProcess('../data_processed/padic/', 'manual_translation', 'speech_transcript', 'https://hal.archives-ouvertes.fr/hal-01718858', 'padic', {},{},1, 'corpus')\n",
    "dp_anb = DataProcess('../data_processed/padic/', 'manual_translation', 'speech_transcript', 'https://hal.archives-ouvertes.fr/hal-01718858', 'padic', {},{},2, 'corpus')\n",
    "dp_tun = DataProcess('../data_processed/padic/', 'manual_translation', 'speech_transcript', 'https://hal.archives-ouvertes.fr/hal-01718858', 'padic', {},{},3, 'corpus')\n",
    "dp_pal = DataProcess('../data_processed/padic/', 'manual_translation', 'speech_transcript', 'https://hal.archives-ouvertes.fr/hal-01718858', 'padic', {},{},4, 'corpus')\n",
    "dp_syr = DataProcess('../data_processed/padic/', 'manual_translation', 'speech_transcript', 'https://hal.archives-ouvertes.fr/hal-01718858', 'padic', {},{},5, 'corpus')\n",
    "dp_mar = DataProcess('../data_processed/padic/', 'manual_translation', 'speech_transcript', 'https://hal.archives-ouvertes.fr/hal-01718858', 'padic', {},{},6, 'corpus')"
   ]
  },
  {
   "cell_type": "code",
   "execution_count": 3,
   "metadata": {},
   "outputs": [],
   "source": [
    "dp_msa.save_file('padic_msa.tsv', dp_msa.preprocess('../../data_raw/PADIC-31-05SansFranSansAng.xlsx', 'MSA', 'MSA', 'MSA', 'MSA', header=0, excel=True))\n",
    "dp_alg.save_file('padic_alg.tsv', dp_alg.preprocess('../../data_raw/PADIC-31-05SansFranSansAng.xlsx', '', 'ALG', '', '', header=0, excel=True))\n",
    "dp_anb.save_file('padic_anb.tsv', dp_anb.preprocess('../../data_raw/PADIC-31-05SansFranSansAng.xlsx', '', 'ANB', '', '', header=0, excel=True))\n",
    "dp_tun.save_file('padic_tun.tsv', dp_tun.preprocess('../../data_raw/PADIC-31-05SansFranSansAng.xlsx', '', '', 'TUN', '', header=0, excel=True))\n",
    "dp_pal.save_file('padic_pal.tsv', dp_pal.preprocess('../../data_raw/PADIC-31-05SansFranSansAng.xlsx', '', '', 'PAL', '', header=0, excel=True))\n",
    "dp_syr.save_file('padic_syr.tsv', dp_syr.preprocess('../../data_raw/PADIC-31-05SansFranSansAng.xlsx', '', '', 'SYR', '', header=0, excel=True))\n",
    "dp_mar.save_file('padic_mar.tsv', dp_mar.preprocess('../../data_raw/PADIC-31-05SansFranSansAng.xlsx', '', '', 'MAR', '', header=0, excel=True))"
   ]
  },
  {
   "cell_type": "code",
   "execution_count": 5,
   "metadata": {},
   "outputs": [],
   "source": [
    "dp_msa.save_features('../datasets_features.tsv')"
   ]
  }
 ],
 "metadata": {
  "kernelspec": {
   "display_name": "Python 3",
   "language": "python",
   "name": "python3"
  },
  "language_info": {
   "codemirror_mode": {
    "name": "ipython",
    "version": 3
   },
   "file_extension": ".py",
   "mimetype": "text/x-python",
   "name": "python",
   "nbconvert_exporter": "python",
   "pygments_lexer": "ipython3",
   "version": "3.8.2"
  }
 },
 "nbformat": 4,
 "nbformat_minor": 4
}
