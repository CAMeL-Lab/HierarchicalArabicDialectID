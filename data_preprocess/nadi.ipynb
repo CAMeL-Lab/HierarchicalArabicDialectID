{
 "cells": [
  {
   "cell_type": "code",
   "execution_count": 1,
   "metadata": {},
   "outputs": [],
   "source": [
    "import csv\n",
    "import json\n",
    "import pandas as pd\n",
    "import os\n",
    "import sys\n",
    "# insert at 1, 0 is the script path (or '' in REPL)\n",
    "sys.path.append('/Users/nurpeiis/Desktop/Capstone/hierarchical-did/utils')\n",
    "from data_process import DataProcess"
   ]
  },
  {
   "cell_type": "code",
   "execution_count": 2,
   "metadata": {},
   "outputs": [],
   "source": [
    "dp = DataProcess('../data_processed_splited/nadi/', 'user_level', 'twitter', 'https://sites.google.com/view/nadi-shared-task', 'nadi', {},{},1, 'corpus', 'original')"
   ]
  },
  {
   "cell_type": "code",
   "execution_count": 3,
   "metadata": {},
   "outputs": [],
   "source": [
    "files = os.listdir('../data_processed/nadi/')\n",
    "for file in files:\n",
    "    df = pd.read_csv('../data_processed/nadi/'+file, delimiter='\\t', header=0, index_col=0)\n",
    "    df['split_original_manual'] = 'original'\n",
    "    df.to_csv('../data_processed_splited/nadi/'+file, sep='\\t')"
   ]
  },
  {
   "cell_type": "code",
   "execution_count": 6,
   "metadata": {},
   "outputs": [
    {
     "name": "stderr",
     "output_type": "stream",
     "text": [
      "<ipython-input-6-e48df4b7bf77>:7: SettingWithCopyWarning: \n",
      "A value is trying to be set on a copy of a slice from a DataFrame\n",
      "\n",
      "See the caveats in the documentation: https://pandas.pydata.org/pandas-docs/stable/user_guide/indexing.html#returning-a-view-versus-a-copy\n",
      "  df['dialect_province_id'][i] = 'hail'\n",
      "<ipython-input-6-e48df4b7bf77>:8: SettingWithCopyWarning: \n",
      "A value is trying to be set on a copy of a slice from a DataFrame\n",
      "\n",
      "See the caveats in the documentation: https://pandas.pydata.org/pandas-docs/stable/user_guide/indexing.html#returning-a-view-versus-a-copy\n",
      "  df['dialect_country_id'][i] = 'sa'\n",
      "<ipython-input-6-e48df4b7bf77>:9: SettingWithCopyWarning: \n",
      "A value is trying to be set on a copy of a slice from a DataFrame\n",
      "\n",
      "See the caveats in the documentation: https://pandas.pydata.org/pandas-docs/stable/user_guide/indexing.html#returning-a-view-versus-a-copy\n",
      "  df['dialect_region_id'][i] = 'gulf'\n"
     ]
    }
   ],
   "source": [
    "#sa_Ha'il is wrong label\n",
    "files_wrong_label = ['train_labeled.tsv', 'dev_labeled.tsv']\n",
    "for file in files_wrong_label:\n",
    "    df = pd.read_csv('../data_processed_splited/nadi/'+file, delimiter='\\t', header=0)\n",
    "    for i in range(len(df)):\n",
    "        if df['dialect_province_id'][i] == \"sa_Ha'il\":\n",
    "            df['dialect_province_id'][i] = 'hail'\n",
    "            df['dialect_country_id'][i] = 'sa'        \n",
    "            df['dialect_region_id'][i] = 'gulf'\n",
    "    df.to_csv('../data_processed_splited/nadi/'+file, sep='\\t')\n",
    "\n",
    "        \n",
    "\n"
   ]
  },
  {
   "cell_type": "code",
   "execution_count": 7,
   "metadata": {},
   "outputs": [],
   "source": [
    "dp.save_features('../datasets_splited_features.tsv')"
   ]
  },
  {
   "cell_type": "code",
   "execution_count": 3,
   "metadata": {},
   "outputs": [
    {
     "name": "stdout",
     "output_type": "stream",
     "text": [
      "After 4957\n",
      "Before 4957\n",
      "After 21000\n",
      "Before 21000\n",
      "After 5000\n",
      "Before 5000\n"
     ]
    }
   ],
   "source": [
    "dp.save_file('dev_labeled.tsv', dp.preprocess('../../data_raw/NADI_shared_task/NADI_release/dev_labeled.tsv', '', 3, 2, '', header=0))\n",
    "dp.save_file('train_labeled.tsv', dp.preprocess('../../data_raw/NADI_shared_task/NADI_release/train_labeled.tsv', '', 3, 2, '', header=0))\n",
    "dp.save_file('test_unlabeled.tsv', dp.preprocess('../../data_raw/NADI_shared_task/NADI-2020_TEST_2.0/test_unlabeled.tsv', '', '', '', '', header=0))"
   ]
  }
 ],
 "metadata": {
  "kernelspec": {
   "display_name": "Python 3",
   "language": "python",
   "name": "python3"
  },
  "language_info": {
   "codemirror_mode": {
    "name": "ipython",
    "version": 3
   },
   "file_extension": ".py",
   "mimetype": "text/x-python",
   "name": "python",
   "nbconvert_exporter": "python",
   "pygments_lexer": "ipython3",
   "version": "3.8.2"
  }
 },
 "nbformat": 4,
 "nbformat_minor": 4
}
