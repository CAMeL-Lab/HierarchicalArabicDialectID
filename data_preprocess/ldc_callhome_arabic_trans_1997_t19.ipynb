{
 "cells": [
  {
   "cell_type": "code",
   "execution_count": 1,
   "metadata": {},
   "outputs": [],
   "source": [
    "import csv\n",
    "import re\n",
    "import os\n",
    "import pandas as pd\n",
    "from camel_tools.utils import charsets\n",
    "import sys\n",
    "# insert at 1, 0 is the script path (or '' in REPL)\n",
    "sys.path.append('/Users/nurpeiis/Desktop/Capstone/hierarchical-did/utils')\n",
    "from data_process import DataProcess"
   ]
  },
  {
   "cell_type": "code",
   "execution_count": 8,
   "metadata": {},
   "outputs": [],
   "source": [
    "def get_speakers_info():\n",
    "    df_speaker_info = pd.read_csv('../../data_raw/ldc_callhome_arabic_trans_1997_t19/doc/spkrinfo.tbl', header=None)\n",
    "    df_speaker_info.loc[df_speaker_info.iloc[:, 4] == 'Alexandria011203570was'].iloc[:, 4]\n",
    "    df_speaker_info.at[20, 4] = 'Alexandria'\n",
    "    df_speaker_info.loc[df_speaker_info.iloc[:, 4] == 'USA'].iloc[:, 4]\n",
    "    df_speaker_info.at[5, 4] = ''\n",
    "    df_speaker_info.at[22, 4] = ''\n",
    "    df_speaker_info.loc[df_speaker_info.iloc[:, 4] == 'Kuwait'].iloc[:, 4]\n",
    "    df_speaker_info.at[102, 4] = ''\n",
    "    return df_speaker_info\n"
   ]
  },
  {
   "cell_type": "code",
   "execution_count": 9,
   "metadata": {},
   "outputs": [],
   "source": [
    "def speakers_split(path_to_directory, filename):\n",
    "    # Cleaning data and splitting between speaker A and B\n",
    "    with open('{}/{}'.format(path_to_directory, filename), encoding='ISO-8859-6', errors=\"ignore\") as f:\n",
    "        try:\n",
    "            lines_raw = f.read().splitlines()\n",
    "        except:\n",
    "            return False\n",
    "        lines = [i for i in lines_raw if i] \n",
    "    ar_letters = charsets.AR_LETTERS_CHARSET\n",
    "    reg=re.compile('^[{}]+$'.format(ar_letters))\n",
    "    speakers = {'A': [], 'B': []}\n",
    "    curr_speaker = 'A'\n",
    "    for l in lines:\n",
    "        word = l.split()\n",
    "        line = \"\"\n",
    "        for w in word:\n",
    "            if w == 'A:' or w == 'B:' or reg.match(w):\n",
    "                line += w + \" \"\n",
    "        line = line[:-1]\n",
    "        if line == 'A:':\n",
    "            curr_speaker = 'A'\n",
    "        elif line == 'B:':\n",
    "            curr_speaker = 'B'\n",
    "        #Get only lines that are purely in Arabic\n",
    "        if re.match(\"[\\(A-Za-z]\", line) == None and line != '':\n",
    "            speakers[curr_speaker].append(line)\n",
    "    return speakers"
   ]
  },
  {
   "cell_type": "code",
   "execution_count": 10,
   "metadata": {},
   "outputs": [],
   "source": [
    "def get_processed(speakers, city_a):\n",
    "    df_processed = pd.DataFrame()\n",
    "    df_processed['original_sentence'] = speakers['A']\n",
    "    df_processed['dialect_city_id'] = city_a\n",
    "    df_processed['dialect_country_id'] = 'Egypt'\n",
    "    df_processed_b = pd.DataFrame()\n",
    "    df_processed_b['original_sentence'] = speakers['B']\n",
    "    df_processed_b['dialect_city_id'] = ''\n",
    "    df_processed_b['dialect_country_id'] = 'Egypt'\n",
    "    df_processed = df_processed.append(df_processed_b, ignore_index=True)\n",
    "    return df_processed"
   ]
  },
  {
   "cell_type": "code",
   "execution_count": 11,
   "metadata": {},
   "outputs": [],
   "source": [
    "def process_directory(path_to_directory):\n",
    "    df = pd.DataFrame(columns={'original_sentence', 'dialect_city_id', 'dialect_country_id'})\n",
    "\n",
    "    df_speakers = get_speakers_info()\n",
    "    counter_bad = 0\n",
    "    files = os.listdir(path_to_directory)\n",
    "    for f in files:\n",
    "        key = df_speakers.loc[df_speakers.iloc[:,0] == f[:-4]].iloc[:,4].keys()[0]\n",
    "        city_a = df_speakers.loc[df_speakers.iloc[:,0] == f[:-4]].iloc[:,4][key]\n",
    "        speakers = speakers_split(path_to_directory, f)\n",
    "        if speakers:\n",
    "            df = df.append(get_processed(speakers, city_a), ignore_index=True)\n",
    "        else:\n",
    "            counter_bad += 1\n",
    "    print('Unable to process {} files in the following directory: {}'.format(counter_bad, path_to_directory))\n",
    "    return df"
   ]
  },
  {
   "cell_type": "code",
   "execution_count": 12,
   "metadata": {},
   "outputs": [
    {
     "name": "stdout",
     "output_type": "stream",
     "text": [
      "Unable to process 0 files in the following directory: ../../data_raw/ldc_callhome_arabic_trans_1997_t19/transcrp/train/script\n",
      "Unable to process 0 files in the following directory: ../../data_raw/ldc_callhome_arabic_trans_1997_t19/transcrp/devtest/script\n",
      "Unable to process 0 files in the following directory: ../../data_raw/ldc_callhome_arabic_trans_1997_t19/transcrp/evaltest/script\n"
     ]
    }
   ],
   "source": [
    "df_train = process_directory('../../data_raw/ldc_callhome_arabic_trans_1997_t19/transcrp/train/script')\n",
    "df_dev = process_directory('../../data_raw/ldc_callhome_arabic_trans_1997_t19/transcrp/devtest/script')\n",
    "df_test = process_directory('../../data_raw/ldc_callhome_arabic_trans_1997_t19/transcrp/evaltest/script')"
   ]
  },
  {
   "cell_type": "code",
   "execution_count": 13,
   "metadata": {},
   "outputs": [],
   "source": [
    "df_train.to_csv('../../data_raw/ldc_callhome_arabic_trans_1997_t19/train_processed.tsv', sep='\\t', index=False)\n",
    "df_test.to_csv('../../data_raw/ldc_callhome_arabic_trans_1997_t19/test_processed.tsv', sep='\\t', index=False)\n",
    "df_dev.to_csv('../../data_raw/ldc_callhome_arabic_trans_1997_t19/dev_processed.tsv', sep='\\t', index=False)"
   ]
  },
  {
   "cell_type": "code",
   "execution_count": 4,
   "metadata": {},
   "outputs": [],
   "source": [
    "dp = DataProcess('../data_processed_splited/ldc_callhome_arabic_trans_1997_t19/', 'user_level', 'speech_transcript', 'https://catalog.ldc.upenn.edu/LDC97T19', 'ldc_callhome_arabic_trans_1997_t19', {},{},1, 'corpus', 'original')"
   ]
  },
  {
   "cell_type": "code",
   "execution_count": 15,
   "metadata": {},
   "outputs": [],
   "source": [
    "dp.save_file('dev.tsv', dp.preprocess('../../data_raw/ldc_callhome_arabic_trans_1997_t19/dev_processed.tsv', 0, '', 2, '', header=0))\n",
    "dp.save_file('train.tsv', dp.preprocess('../../data_raw/ldc_callhome_arabic_trans_1997_t19/train_processed.tsv', 0, '', 2, '', header=0))\n",
    "dp.save_file('test.tsv', dp.preprocess('../../data_raw/ldc_callhome_arabic_trans_1997_t19/test_processed.tsv', 0, '', 2, '', header=0))\n"
   ]
  },
  {
   "cell_type": "code",
   "execution_count": 5,
   "metadata": {},
   "outputs": [],
   "source": [
    "df_train = pd.read_csv('../data_processed/ldc_callhome_arabic_trans_1997_t19/train.tsv', delimiter='\\t', header=0)\n",
    "df_train['split_original_manual'] = 'original'\n",
    "df_test = pd.read_csv('../data_processed/ldc_callhome_arabic_trans_1997_t19/test.tsv', delimiter='\\t', header=0)\n",
    "df_test['split_original_manual'] = 'original'\n",
    "df_dev = pd.read_csv('../data_processed/ldc_callhome_arabic_trans_1997_t19/dev.tsv', delimiter='\\t', header=0)\n",
    "df_dev['split_original_manual'] = 'original'\n",
    "df_train.to_csv('../data_processed_splited/ldc_callhome_arabic_trans_1997_t19/train_processed.tsv', sep='\\t', index=False)\n",
    "df_test.to_csv('../data_processed_splited/ldc_callhome_arabic_trans_1997_t19/test_processed.tsv', sep='\\t',index=False)\n",
    "df_dev.to_csv('../data_processed_splited/ldc_callhome_arabic_trans_1997_t19/dev_processed.tsv', sep='\\t',index=False)\n",
    "\n",
    "\n",
    "\n",
    "\n"
   ]
  },
  {
   "cell_type": "code",
   "execution_count": 5,
   "metadata": {},
   "outputs": [],
   "source": [
    "dp.save_features('../datasets_splited_features.tsv')"
   ]
  },
  {
   "cell_type": "code",
   "execution_count": null,
   "metadata": {},
   "outputs": [],
   "source": []
  }
 ],
 "metadata": {
  "kernelspec": {
   "display_name": "Python 3",
   "language": "python",
   "name": "python3"
  },
  "language_info": {
   "codemirror_mode": {
    "name": "ipython",
    "version": 3
   },
   "file_extension": ".py",
   "mimetype": "text/x-python",
   "name": "python",
   "nbconvert_exporter": "python",
   "pygments_lexer": "ipython3",
   "version": "3.8.2"
  }
 },
 "nbformat": 4,
 "nbformat_minor": 4
}
