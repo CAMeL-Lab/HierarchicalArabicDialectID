{
 "cells": [
  {
   "cell_type": "code",
   "execution_count": 1,
   "metadata": {},
   "outputs": [],
   "source": [
    "import os\n",
    "import re"
   ]
  },
  {
   "cell_type": "code",
   "execution_count": 2,
   "metadata": {},
   "outputs": [],
   "source": [
    "#get ids that are in training\n",
    "alghad = []\n",
    "alriyadh = []\n",
    "youm7 = []\n",
    "\n",
    "folder = '../../data_raw/AOC-dialectal-annotations/'\n",
    "files = [i for i in os.listdir(folder) if 'ids' in i]\n",
    "for file in files:\n",
    "    with open(folder+file, 'r') as f:\n",
    "        lines = [i[i.find('/')+1:-1] for i in f.readlines()]\n",
    "    if 'alghad' in file:\n",
    "        alghad.extend(lines)\n",
    "    elif 'alriyadh' in file:\n",
    "        alriyadh.extend(lines)\n",
    "    else:\n",
    "        youm7.extend(lines)"
   ]
  },
  {
   "cell_type": "code",
   "execution_count": null,
   "metadata": {},
   "outputs": [
    {
     "name": "stdout",
     "output_type": "stream",
     "text": [
      "starting AOC_alriyadh_comments.xml\n"
     ]
    }
   ],
   "source": [
    "\n",
    "folder_unl = '../../data_raw/AOC/AOC_v1.1/'\n",
    "files = [i for i in os.listdir(folder_unl) if 'xml' in i and ('sample' in i) == False and ('processed' in i) == False]\n",
    "\n",
    "alghad_docs = dict() #key doc_id, val = list of segments\n",
    "alriyadh_docs = dict()\n",
    "youm7_docs = dict()\n",
    "\n",
    "for file in files:\n",
    "    print(f'starting {file}')\n",
    "    with open(folder_unl+file, 'r') as f:\n",
    "        doc_id = -1\n",
    "        for i in f.readlines():\n",
    "            if 'docid' in i:\n",
    "                doc_id = i[i.find('docid=\"')+7: i[i.find('docid=\"')+7:].find('\"')+12]\n",
    "                doc_id = re.sub('[^0-9\\_]', '', doc_id)[1:]\n",
    "                #print(doc_id)\n",
    "            if 'seg' in i:\n",
    "                seg_id = i[i.find('seg id=\"')+8: i[i.find('seg id=\"')+8:].find('\"')+9].zfill(3)\n",
    "                if re.search('<seg id=\".*\">(.*)</seg>', i):\n",
    "                    sentence = re.search('<seg id=\".*\">(.*)</seg>', i).group(1).strip()\n",
    "                    print\n",
    "                    if 'alghad' in file:\n",
    "                        if (f'{doc_id}_{seg_id}' in alghad) == False:\n",
    "                            if doc_id in alghad_docs:\n",
    "                                alghad_docs[doc_id].append(sentence)\n",
    "                            else:\n",
    "                                alghad_docs[doc_id] = [sentence]\n",
    "                    elif 'alriyadh' in file:\n",
    "                        if (f'{doc_id}_{seg_id}' in alriyadh) == False:\n",
    "                            if doc_id in alghad_docs:\n",
    "                                alriyadh_docs[doc_id].append(sentence)\n",
    "                            else:\n",
    "                                alriyadh_docs[doc_id] = [sentence]\n",
    "                    elif 'youm7' in file:\n",
    "                        if (f'{doc_id}_{seg_id}' in youm7) == False:\n",
    "                            if doc_id in alghad_docs:\n",
    "                                youm7_docs[doc_id].append(sentence)\n",
    "                            else:\n",
    "                                youm7_docs[doc_id] = [sentence]\n",
    "\n"
   ]
  },
  {
   "cell_type": "code",
   "execution_count": null,
   "metadata": {},
   "outputs": [],
   "source": [
    "folder = '../data_unlabelled/'\n",
    "os.mkdir(folder)\n",
    "\n",
    "def put_into_files(folder, docs):\n",
    "    os.mkidr(folder)\n",
    "    for doc in docs.keys():\n",
    "        if len(docs[doc]) > 0:\n",
    "            with open(f'{folder}{doc}.doc', 'w') as f:\n",
    "                for line in docs[doc]:\n",
    "                    f.write(f'{line}\\n')\n",
    "                    \n",
    "put_into_files(f'{folder}alghad/', alghad_docs)\n",
    "put_into_files(f'{folder}alriyadh/', alriyadh_docs)\n",
    "put_into_files(f'{folder}youm7/', youm7_docs)"
   ]
  }
 ],
 "metadata": {
  "kernelspec": {
   "display_name": "Python 3.8.2 64-bit ('hierarchical-did': conda)",
   "language": "python",
   "name": "python38264bithierarchicaldidconda4487f863c8784fb2a7811f83c7f12f9c"
  },
  "language_info": {
   "codemirror_mode": {
    "name": "ipython",
    "version": 3
   },
   "file_extension": ".py",
   "mimetype": "text/x-python",
   "name": "python",
   "nbconvert_exporter": "python",
   "pygments_lexer": "ipython3",
   "version": "3.8.2"
  }
 },
 "nbformat": 4,
 "nbformat_minor": 4
}
