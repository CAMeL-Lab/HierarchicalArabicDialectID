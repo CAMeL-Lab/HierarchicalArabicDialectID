{
 "cells": [
  {
   "cell_type": "code",
   "execution_count": 1,
   "metadata": {},
   "outputs": [],
   "source": [
    "import re\n",
    "import csv\n",
    "import pandas as pd\n",
    "import os\n",
    "from camel_tools.utils import charsets\n",
    "import sys\n",
    "# insert at 1, 0 is the script path (or '' in REPL)\n",
    "sys.path.append('/Users/nurpeiis/Desktop/Capstone/hierarchical-did/utils')\n",
    "from data_process import DataProcess"
   ]
  },
  {
   "cell_type": "code",
   "execution_count": 14,
   "metadata": {},
   "outputs": [
    {
     "data": {
      "text/plain": [
       "float"
      ]
     },
     "execution_count": 14,
     "metadata": {},
     "output_type": "execute_result"
    }
   ],
   "source": [
    "data_splits = pd.read_csv('../../data_raw/Gumar/data_splits.tsv', delimiter='\\t', header=0, dtype={'DOC_ID': str})\n",
    "data_splits.iloc[1231]['Splits']"
   ]
  },
  {
   "cell_type": "code",
   "execution_count": 21,
   "metadata": {},
   "outputs": [],
   "source": [
    "train = data_splits.loc[data_splits['Splits'] == 'train']['DOC_ID'].unique()\n",
    "dev = data_splits.loc[data_splits['Splits'] == 'dev']['DOC_ID'].unique()\n",
    "test = data_splits.loc[data_splits['Splits'] == 'test']['DOC_ID'].unique()\n",
    "NaN = data_splits.loc[data_splits['Splits'].isnull()]['DOC_ID'].unique()\n"
   ]
  },
  {
   "cell_type": "code",
   "execution_count": 25,
   "metadata": {},
   "outputs": [
    {
     "data": {
      "text/plain": [
       "30"
      ]
     },
     "execution_count": 25,
     "metadata": {},
     "output_type": "execute_result"
    }
   ],
   "source": [
    "len(NaN)"
   ]
  },
  {
   "cell_type": "code",
   "execution_count": 22,
   "metadata": {},
   "outputs": [],
   "source": [
    "files = os.listdir('../data_processed/gumar/')\n",
    "for file in files:\n",
    "    df = pd.read_csv('../data_processed/gumar/'+file, delimiter='\\t', header=0, index_col=0)\n",
    "    df['split_original_manual'] = 'original'\n",
    "    doc_id = file[10:15]\n",
    "    if doc_id in train:\n",
    "        df.to_csv('../data_processed_splited/gumar/train_'+file, sep='\\t')\n",
    "    elif doc_id in test:\n",
    "        df.to_csv('../data_processed_splited/gumar/test_'+file, sep='\\t')\n",
    "    elif doc_id in dev:\n",
    "        df.to_csv('../data_processed_splited/gumar/dev_'+file, sep='\\t')\n",
    "    elif doc_id in NaN:\n",
    "        df.to_csv('../data_processed_splited/gumar/nan_'+file, sep='\\t')"
   ]
  },
  {
   "cell_type": "code",
   "execution_count": 23,
   "metadata": {},
   "outputs": [],
   "source": [
    "dp = DataProcess('../data_processed_splited/gumar/', 'document_level', 'forum_novel', 'https://camel.abudhabi.nyu.edu/gumar/?page=publications&lang=en', 'gumar', {},{},0, 'corpus', 'original')"
   ]
  },
  {
   "cell_type": "code",
   "execution_count": 24,
   "metadata": {},
   "outputs": [],
   "source": [
    "dp.save_features('../datasets_splited_features.tsv')"
   ]
  },
  {
   "cell_type": "code",
   "execution_count": 2,
   "metadata": {},
   "outputs": [
    {
     "data": {
      "text/html": [
       "<div>\n",
       "<style scoped>\n",
       "    .dataframe tbody tr th:only-of-type {\n",
       "        vertical-align: middle;\n",
       "    }\n",
       "\n",
       "    .dataframe tbody tr th {\n",
       "        vertical-align: top;\n",
       "    }\n",
       "\n",
       "    .dataframe thead th {\n",
       "        text-align: right;\n",
       "    }\n",
       "</style>\n",
       "<table border=\"1\" class=\"dataframe\">\n",
       "  <thead>\n",
       "    <tr style=\"text-align: right;\">\n",
       "      <th></th>\n",
       "      <th>DOC_ID</th>\n",
       "      <th>Dialect</th>\n",
       "    </tr>\n",
       "  </thead>\n",
       "  <tbody>\n",
       "    <tr>\n",
       "      <th>0</th>\n",
       "      <td>00000</td>\n",
       "      <td>SA</td>\n",
       "    </tr>\n",
       "    <tr>\n",
       "      <th>1</th>\n",
       "      <td>00001</td>\n",
       "      <td>AE</td>\n",
       "    </tr>\n",
       "    <tr>\n",
       "      <th>2</th>\n",
       "      <td>00002</td>\n",
       "      <td>QA</td>\n",
       "    </tr>\n",
       "    <tr>\n",
       "      <th>3</th>\n",
       "      <td>00003</td>\n",
       "      <td>SA</td>\n",
       "    </tr>\n",
       "    <tr>\n",
       "      <th>4</th>\n",
       "      <td>00004</td>\n",
       "      <td>SA</td>\n",
       "    </tr>\n",
       "    <tr>\n",
       "      <th>...</th>\n",
       "      <td>...</td>\n",
       "      <td>...</td>\n",
       "    </tr>\n",
       "    <tr>\n",
       "      <th>1227</th>\n",
       "      <td>01243</td>\n",
       "      <td>GA</td>\n",
       "    </tr>\n",
       "    <tr>\n",
       "      <th>1228</th>\n",
       "      <td>01246</td>\n",
       "      <td>GA</td>\n",
       "    </tr>\n",
       "    <tr>\n",
       "      <th>1229</th>\n",
       "      <td>01247</td>\n",
       "      <td>SA</td>\n",
       "    </tr>\n",
       "    <tr>\n",
       "      <th>1230</th>\n",
       "      <td>01248</td>\n",
       "      <td>SA</td>\n",
       "    </tr>\n",
       "    <tr>\n",
       "      <th>1231</th>\n",
       "      <td>01249</td>\n",
       "      <td>SA</td>\n",
       "    </tr>\n",
       "  </tbody>\n",
       "</table>\n",
       "<p>1232 rows × 2 columns</p>\n",
       "</div>"
      ],
      "text/plain": [
       "     DOC_ID Dialect\n",
       "0     00000      SA\n",
       "1     00001      AE\n",
       "2     00002      QA\n",
       "3     00003      SA\n",
       "4     00004      SA\n",
       "...     ...     ...\n",
       "1227  01243      GA\n",
       "1228  01246      GA\n",
       "1229  01247      SA\n",
       "1230  01248      SA\n",
       "1231  01249      SA\n",
       "\n",
       "[1232 rows x 2 columns]"
      ]
     },
     "execution_count": 2,
     "metadata": {},
     "output_type": "execute_result"
    }
   ],
   "source": [
    "df_dialect = pd.read_csv('../../data_raw/Gumar/dialect_info.tsv', delimiter='\\t', header=0, dtype={'DOC_ID': str})\n",
    "df_dialect"
   ]
  },
  {
   "cell_type": "code",
   "execution_count": 29,
   "metadata": {},
   "outputs": [],
   "source": [
    "def preprocess_failures():\n",
    "    folder = '../../data_raw/Gumar/data/'\n",
    "    failures = ['Gumar_nvl_01145.txt', 'Gumar_nvl_00093.doc.txt', 'Gumar_nvl_00291.doc.txt', 'Gumar_nvl_01148.txt']\n",
    "    for file in failures:\n",
    "        df = pd.DataFrame(columns={'original_sentence'})\n",
    "        with open(folder + file, 'r') as f:\n",
    "            lines = f.read().splitlines()\n",
    "        df['original_sentence'] = lines\n",
    "        df = df.to_csv('../../data_raw/Gumar/data_labels/' + file[:-3] + 'tsv' , sep='\\t', index=False)\n",
    "        dp.save_file('nan_'+file[:-3] + 'tsv', dp.preprocess('../../data_raw/Gumar/data_labels/' + file[:-3] + 'tsv', '', '', '', '', header=0))"
   ]
  },
  {
   "cell_type": "code",
   "execution_count": 30,
   "metadata": {},
   "outputs": [],
   "source": [
    "preprocess_failures()"
   ]
  },
  {
   "cell_type": "code",
   "execution_count": 21,
   "metadata": {},
   "outputs": [],
   "source": [
    "def preprocess_gumar(): \n",
    "    folder = '../../data_raw/Gumar/data/'\n",
    "    failures = ['Gumar_nvl_01145.txt', 'Gumar_nvl_00093.doc.txt', 'Gumar_nvl_00291.doc.txt', 'Gumar_nvl_01148.txt']\n",
    "    files = [i for i in os.listdir(folder) if (i in failures) == False]\n",
    "    for file in files:\n",
    "        df = pd.DataFrame(columns={'original_sentence', 'dialect_country_id', 'dialect_region_id'})\n",
    "        doc_id = file[10:15]\n",
    "        try:\n",
    "            dialect = df_dialect[df_dialect['DOC_ID'] == doc_id].iloc[0]['Dialect']\n",
    "        except:\n",
    "            failures.append(file)\n",
    "            print(\"sad reacts\")\n",
    "            dialect = ''\n",
    "        with open(folder + file, 'r') as f:\n",
    "            lines = f.read().splitlines()\n",
    "        df['original_sentence'] = lines\n",
    "        df['dialect_country_id'] = dialect\n",
    "        df = df.to_csv('../../data_raw/Gumar/data_labels/' + file[:-3] + 'tsv' , sep='\\t', index=False)\n",
    "    print('Files without dialect label ', failures)"
   ]
  },
  {
   "cell_type": "code",
   "execution_count": 22,
   "metadata": {},
   "outputs": [
    {
     "name": "stdout",
     "output_type": "stream",
     "text": [
      "Files without dialect label  ['Gumar_nvl_01145.txt', 'Gumar_nvl_00093.doc.txt', 'Gumar_nvl_00291.doc.txt', 'Gumar_nvl_01148.txt']\n"
     ]
    }
   ],
   "source": [
    "preprocess_gumar()"
   ]
  },
  {
   "cell_type": "code",
   "execution_count": 25,
   "metadata": {},
   "outputs": [],
   "source": [
    "folder = '../../data_raw/Gumar/data_labels/'\n",
    "files = os.listdir(folder)\n",
    "for file in files:  \n",
    "    dp.save_file(file, dp.preprocess(folder+file, '', '', 1, '', header=0))"
   ]
  }
 ],
 "metadata": {
  "kernelspec": {
   "display_name": "Python 3",
   "language": "python",
   "name": "python3"
  },
  "language_info": {
   "codemirror_mode": {
    "name": "ipython",
    "version": 3
   },
   "file_extension": ".py",
   "mimetype": "text/x-python",
   "name": "python",
   "nbconvert_exporter": "python",
   "pygments_lexer": "ipython3",
   "version": "3.8.2"
  }
 },
 "nbformat": 4,
 "nbformat_minor": 4
}
