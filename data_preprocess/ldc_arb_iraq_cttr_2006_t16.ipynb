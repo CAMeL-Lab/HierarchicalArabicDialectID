{
 "cells": [
  {
   "cell_type": "code",
   "execution_count": 1,
   "metadata": {},
   "outputs": [],
   "source": [
    "import re\n",
    "import csv\n",
    "import pandas as pd\n",
    "import os\n",
    "from camel_tools.utils import charsets\n",
    "import sys\n",
    "# insert at 1, 0 is the script path (or '' in REPL)\n",
    "sys.path.append('/Users/nurpeiis/Desktop/Capstone/hierarchical-did/utils')\n",
    "from data_process import DataProcess"
   ]
  },
  {
   "cell_type": "code",
   "execution_count": 5,
   "metadata": {},
   "outputs": [
    {
     "data": {
      "text/html": [
       "<div>\n",
       "<style scoped>\n",
       "    .dataframe tbody tr th:only-of-type {\n",
       "        vertical-align: middle;\n",
       "    }\n",
       "\n",
       "    .dataframe tbody tr th {\n",
       "        vertical-align: top;\n",
       "    }\n",
       "\n",
       "    .dataframe thead th {\n",
       "        text-align: right;\n",
       "    }\n",
       "</style>\n",
       "<table border=\"1\" class=\"dataframe\">\n",
       "  <thead>\n",
       "    <tr style=\"text-align: right;\">\n",
       "      <th></th>\n",
       "      <th>filename</th>\n",
       "      <th>A</th>\n",
       "      <th>B</th>\n",
       "    </tr>\n",
       "  </thead>\n",
       "  <tbody>\n",
       "    <tr>\n",
       "      <th>0</th>\n",
       "      <td>AR-20031104-104134_0</td>\n",
       "      <td>Northern</td>\n",
       "      <td></td>\n",
       "    </tr>\n",
       "    <tr>\n",
       "      <th>1</th>\n",
       "      <td>AR-20031106-145640_0</td>\n",
       "      <td>Southern</td>\n",
       "      <td>Baghdadi</td>\n",
       "    </tr>\n",
       "    <tr>\n",
       "      <th>2</th>\n",
       "      <td>AR-20031106-150641_4</td>\n",
       "      <td></td>\n",
       "      <td>Southern</td>\n",
       "    </tr>\n",
       "    <tr>\n",
       "      <th>3</th>\n",
       "      <td>AR-20031109-181638_0</td>\n",
       "      <td>Baghdadi</td>\n",
       "      <td>Baghdadi</td>\n",
       "    </tr>\n",
       "    <tr>\n",
       "      <th>4</th>\n",
       "      <td>AR-20031117-142352_0</td>\n",
       "      <td>Northern</td>\n",
       "      <td>Baghdadi</td>\n",
       "    </tr>\n",
       "    <tr>\n",
       "      <th>...</th>\n",
       "      <td>...</td>\n",
       "      <td>...</td>\n",
       "      <td>...</td>\n",
       "    </tr>\n",
       "    <tr>\n",
       "      <th>271</th>\n",
       "      <td>AR-20031226-032432_2</td>\n",
       "      <td>Northern</td>\n",
       "      <td>Baghdadi</td>\n",
       "    </tr>\n",
       "    <tr>\n",
       "      <th>272</th>\n",
       "      <td>AR-20031227-035402_2</td>\n",
       "      <td>Baghdadi</td>\n",
       "      <td>Northern</td>\n",
       "    </tr>\n",
       "    <tr>\n",
       "      <th>273</th>\n",
       "      <td>AR-20031227-050023_6</td>\n",
       "      <td>Baghdadi</td>\n",
       "      <td>Northern</td>\n",
       "    </tr>\n",
       "    <tr>\n",
       "      <th>274</th>\n",
       "      <td>AR-20040103-034739_0</td>\n",
       "      <td>Baghdadi</td>\n",
       "      <td>Northern</td>\n",
       "    </tr>\n",
       "    <tr>\n",
       "      <th>275</th>\n",
       "      <td>AR-20040103-042730_4</td>\n",
       "      <td>Baghdadi</td>\n",
       "      <td>Baghdadi</td>\n",
       "    </tr>\n",
       "  </tbody>\n",
       "</table>\n",
       "<p>276 rows × 3 columns</p>\n",
       "</div>"
      ],
      "text/plain": [
       "                 filename         A         B\n",
       "0    AR-20031104-104134_0  Northern          \n",
       "1    AR-20031106-145640_0  Southern  Baghdadi\n",
       "2    AR-20031106-150641_4            Southern\n",
       "3    AR-20031109-181638_0  Baghdadi  Baghdadi\n",
       "4    AR-20031117-142352_0  Northern  Baghdadi\n",
       "..                    ...       ...       ...\n",
       "271  AR-20031226-032432_2  Northern  Baghdadi\n",
       "272  AR-20031227-035402_2  Baghdadi  Northern\n",
       "273  AR-20031227-050023_6  Baghdadi  Northern\n",
       "274  AR-20040103-034739_0  Baghdadi  Northern\n",
       "275  AR-20040103-042730_4  Baghdadi  Baghdadi\n",
       "\n",
       "[276 rows x 3 columns]"
      ]
     },
     "execution_count": 5,
     "metadata": {},
     "output_type": "execute_result"
    }
   ],
   "source": [
    "def get_speakers_info():\n",
    "    df= pd.read_csv('../../data_raw/ldc_arb_iraq_cttr_2006_t16/docs/training.tab', delimiter='\\t', header=None) \n",
    "    df_speaker_info = pd.DataFrame()\n",
    "    df_speaker_info['filename'] = df.iloc[:,0]   \n",
    "    df_speaker_info['A'] = df.iloc[:,4].apply(lambda x: '' if x == '(na)' else x)  \n",
    "    df_speaker_info['B'] = df.iloc[:,9].apply(lambda x: '' if x == '(na)' else x)    \n",
    "    df_devtest= pd.read_csv('../../data_raw/ldc_arb_iraq_cttr_2006_t16/docs/dev_test.tab', delimiter='\\t', header=None) #in line 4 of the file delete extra tabs from Places to go\n",
    "    df_speaker_info_devtest = pd.DataFrame()\n",
    "    df_speaker_info_devtest['filename'] = df_devtest.iloc[:,0]     \n",
    "    df_speaker_info_devtest['A'] = df_devtest.iloc[:,4].apply(lambda x: '' if x == '(na)' else x)     \n",
    "    df_speaker_info_devtest['B'] = df_devtest.iloc[:,9].apply(lambda x: '' if x == '(na)' else x)    \n",
    "    df_speaker_info = df_speaker_info.append(df_speaker_info_devtest, ignore_index=True)\n",
    "    return df_speaker_info"
   ]
  },
  {
   "cell_type": "code",
   "execution_count": 11,
   "metadata": {},
   "outputs": [],
   "source": [
    "def speakers_split(path_to_directory, filename):\n",
    "    # Cleaning data and splitting between speaker A and B\n",
    "    with open('{}/{}'.format(path_to_directory, filename)) as f:\n",
    "        try:\n",
    "            lines_raw = f.read().splitlines()\n",
    "        except:\n",
    "            return False\n",
    "        lines = [i for i in lines_raw if i] \n",
    "    ar_letters = charsets.AR_LETTERS_CHARSET\n",
    "    reg=re.compile('^[{}]+$'.format(ar_letters))\n",
    "    speakers = {'A': [], 'B': []}\n",
    "    curr_speaker = 'A'\n",
    "    for l in lines:\n",
    "        word = l.split()\n",
    "        line = \"\"\n",
    "        for w in word:\n",
    "            if w == 'A:' or w == 'B:' or reg.match(w):\n",
    "                line += w + \" \"\n",
    "        line = line[:-1]\n",
    "        if 'A:' in line:\n",
    "            curr_speaker = 'A'\n",
    "            line = line.replace('A:','')\n",
    "        elif 'B:' in line:\n",
    "            curr_speaker = 'B'            \n",
    "            line = line.replace('B:','')\n",
    "        line = line.replace('tnfs', '')\n",
    "        line = line.replace('free', '')\n",
    "        line = line.replace('roster', '')\n",
    "        #print(line)\n",
    "        #Get only lines that are purely in Arabic\n",
    "        line = line.replace('(', '')        \n",
    "        line = line.replace(')', '')\n",
    "        #print(line)\n",
    "        if re.match(\"[\\(A-Za-z]\", line) == None and line != '':\n",
    "            speakers[curr_speaker].append(line)\n",
    "    return speakers\n",
    "#speakers_split('../../data_raw/ldc_arb_iraq_cttr_2006_t16/data/transc/train2c', 'AR-20031208-205019_0.txt')"
   ]
  },
  {
   "cell_type": "code",
   "execution_count": 12,
   "metadata": {},
   "outputs": [],
   "source": [
    "def get_processed(speakers, province_a, province_b):\n",
    "    df_processed = pd.DataFrame()\n",
    "    df_processed['original_sentence'] = speakers['A']\n",
    "    df_processed['dialect_province_id'] = province_a\n",
    "    df_processed['dialect_country_id'] = 'Iraq'\n",
    "    df_processed_b = pd.DataFrame()\n",
    "    df_processed_b['original_sentence'] = speakers['B']\n",
    "    df_processed_b['dialect_province_id'] = province_b\n",
    "    df_processed_b['dialect_country_id'] = 'Iraq'\n",
    "\n",
    "    df_processed = df_processed.append(df_processed_b, ignore_index=True)\n",
    "    return df_processed"
   ]
  },
  {
   "cell_type": "code",
   "execution_count": 21,
   "metadata": {},
   "outputs": [],
   "source": [
    "def process_directory(path_to_directory):\n",
    "    df = pd.DataFrame(columns={'original_sentence', 'dialect_country_id', 'dialect_province_id'})\n",
    "\n",
    "    df_speakers = get_speakers_info()\n",
    "    counter_bad = 0\n",
    "    files = os.listdir(path_to_directory)\n",
    "    for f in files:\n",
    "        try:\n",
    "            province_a = df_speakers.loc[df_speakers[\"filename\"] == f[:-4]].iloc[0]['A']\n",
    "            province_b = df_speakers.loc[df_speakers[\"filename\"] == f[:-4]].iloc[0]['B']\n",
    "            speakers = speakers_split(path_to_directory, f)\n",
    "            if speakers:\n",
    "                df = df.append(get_processed(speakers, province_a, province_b), ignore_index=True)\n",
    "            else:\n",
    "                counter_bad += 1\n",
    "        except:\n",
    "            print(\"Bad\", f)\n",
    "            continue\n",
    "    print('Unable to process {} files in the following directory: {}'.format(counter_bad, path_to_directory))\n",
    "    return df"
   ]
  },
  {
   "cell_type": "code",
   "execution_count": 22,
   "metadata": {},
   "outputs": [
    {
     "name": "stdout",
     "output_type": "stream",
     "text": [
      "Unable to process 0 files in the following directory: ../../data_raw/ldc_arb_iraq_cttr_2006_t16/data/transc/train2c\n"
     ]
    }
   ],
   "source": [
    "df_train = process_directory('../../data_raw/ldc_arb_iraq_cttr_2006_t16/data/transc/train2c')\n",
    "df_train.to_csv('../../data_raw/ldc_arb_iraq_cttr_2006_t16/train_processed.tsv', sep='\\t', index=False)"
   ]
  },
  {
   "cell_type": "code",
   "execution_count": 23,
   "metadata": {},
   "outputs": [
    {
     "name": "stdout",
     "output_type": "stream",
     "text": [
      "Unable to process 0 files in the following directory: ../../data_raw/ldc_arb_iraq_cttr_2006_t16/data/transc/devtest\n"
     ]
    }
   ],
   "source": [
    "df_devtest = process_directory('../../data_raw/ldc_arb_iraq_cttr_2006_t16/data/transc/devtest')\n",
    "df_devtest.to_csv('../../data_raw/ldc_arb_iraq_cttr_2006_t16/devtest_processed.tsv', sep='\\t', index=False)"
   ]
  },
  {
   "cell_type": "code",
   "execution_count": 24,
   "metadata": {},
   "outputs": [],
   "source": [
    "dp = DataProcess('../data_processed/ldc_arb_iraq_cttr_2006_t16/', 'user_level', 'speech_transcript', 'https://catalog.ldc.upenn.edu/LDC2006T16', 'ldc_arb_iraq_cttr_2006_t16', {},{},1, 'corpus')"
   ]
  },
  {
   "cell_type": "code",
   "execution_count": 25,
   "metadata": {},
   "outputs": [],
   "source": [
    "dp.save_file('train_processed.tsv', dp.preprocess('../../data_raw/ldc_arb_iraq_cttr_2006_t16/train_processed.tsv', '', 2, 0, '', header=0))\n",
    "dp.save_file('devtest_processed.tsv', dp.preprocess('../../data_raw/ldc_arb_iraq_cttr_2006_t16/devtest_processed.tsv', '', 2, 0, '', header=0))"
   ]
  },
  {
   "cell_type": "code",
   "execution_count": 26,
   "metadata": {},
   "outputs": [],
   "source": [
    "dp.save_features('../datasets_features.tsv')"
   ]
  }
 ],
 "metadata": {
  "kernelspec": {
   "display_name": "Python 3",
   "language": "python",
   "name": "python3"
  },
  "language_info": {
   "codemirror_mode": {
    "name": "ipython",
    "version": 3
   },
   "file_extension": ".py",
   "mimetype": "text/x-python",
   "name": "python",
   "nbconvert_exporter": "python",
   "pygments_lexer": "ipython3",
   "version": "3.8.2"
  }
 },
 "nbformat": 4,
 "nbformat_minor": 4
}
