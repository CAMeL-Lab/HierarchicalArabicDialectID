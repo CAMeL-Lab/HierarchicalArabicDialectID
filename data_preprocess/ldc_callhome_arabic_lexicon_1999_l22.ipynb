{
 "cells": [
  {
   "cell_type": "code",
   "execution_count": 1,
   "metadata": {},
   "outputs": [],
   "source": [
    "import csv\n",
    "import re\n",
    "import os\n",
    "import pandas as pd\n",
    "from camel_tools.utils import charsets\n",
    "import sys\n",
    "# insert at 1, 0 is the script path (or '' in REPL)\n",
    "sys.path.append('/Users/nurpeiis/Desktop/Capstone/hierarchical-did/utils')\n",
    "from data_process import DataProcess"
   ]
  },
  {
   "cell_type": "code",
   "execution_count": 16,
   "metadata": {},
   "outputs": [],
   "source": [
    "#Step 0: Get only unique lexems and save them into the words.tsv\n",
    "df = pd.read_csv('../../data_raw/ldc_callhome_arabic_lexicon_1999_l22/ar_lex.v07', encoding='iso-8859-6', delimiter='\\t', header=None)\n",
    "df = pd.DataFrame(df.iloc[:,1].unique())\n",
    "df.to_csv('../../data_raw/ldc_callhome_arabic_lexicon_1999_l22/words.tsv', sep='t', header=None, index=False)"
   ]
  },
  {
   "cell_type": "code",
   "execution_count": 18,
   "metadata": {},
   "outputs": [],
   "source": [
    "dp = DataProcess('../data_processed/ldc_callhome_arabic_lexicon_1999_l22/', 'word_level', 'speech_transcript', 'https://catalog.ldc.upenn.edu/LDC99L22', 'ldc_callhome_arabic_lexicon_1999_l22', {},{},0, 'lexicon')"
   ]
  },
  {
   "cell_type": "code",
   "execution_count": 19,
   "metadata": {},
   "outputs": [],
   "source": [
    "dp.save_file('lexicon.tsv', dp.preprocess('../../data_raw/ldc_callhome_arabic_lexicon_1999_l22/words.tsv', '', '', 'Egypt', '', header=None))"
   ]
  }
 ],
 "metadata": {
  "kernelspec": {
   "display_name": "Python 3",
   "language": "python",
   "name": "python3"
  },
  "language_info": {
   "codemirror_mode": {
    "name": "ipython",
    "version": 3
   },
   "file_extension": ".py",
   "mimetype": "text/x-python",
   "name": "python",
   "nbconvert_exporter": "python",
   "pygments_lexer": "ipython3",
   "version": "3.8.2"
  }
 },
 "nbformat": 4,
 "nbformat_minor": 4
}
