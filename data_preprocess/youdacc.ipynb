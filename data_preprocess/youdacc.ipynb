{
 "cells": [
  {
   "cell_type": "code",
   "execution_count": 1,
   "metadata": {},
   "outputs": [],
   "source": [
    "import csv\n",
    "import pandas as pd\n",
    "import os\n",
    "import sys\n",
    "# insert at 1, 0 is the script path (or '' in REPL)\n",
    "sys.path.append('/Users/nurpeiis/Desktop/Capstone/hierarchical-did/utils')\n",
    "from data_process import DataProcess"
   ]
  },
  {
   "cell_type": "code",
   "execution_count": 5,
   "metadata": {},
   "outputs": [],
   "source": [
    "dp = DataProcess('../data_processed_splited/youdacc/', 'user_level', 'youtube_comments', 'https://www.aclweb.org/anthology/L14-1456/', 'youdacc', {},{},0,'corpus', 'original')"
   ]
  },
  {
   "cell_type": "code",
   "execution_count": 6,
   "metadata": {},
   "outputs": [],
   "source": [
    "files = os.listdir('../data_processed/youdacc/')\n",
    "for file in files:\n",
    "    df = pd.read_csv('../data_processed/youdacc/'+file, delimiter='\\t', header=0, index_col=0)\n",
    "    df['split_original_manual'] = 'original'\n",
    "    df.to_csv('../data_processed_splited/youdacc/'+file, sep='\\t')"
   ]
  },
  {
   "cell_type": "code",
   "execution_count": 7,
   "metadata": {},
   "outputs": [],
   "source": [
    "dp.save_features('../datasets_splited_features.tsv')"
   ]
  },
  {
   "cell_type": "code",
   "execution_count": 3,
   "metadata": {},
   "outputs": [
    {
     "name": "stdout",
     "output_type": "stream",
     "text": [
      "After 1000\n",
      "Before 1000\n",
      "After 78889\n",
      "Before 78889\n",
      "After 1000\n",
      "Before 1000\n",
      "After 190524\n",
      "Before 190524\n",
      "After 1000\n",
      "Before 1000\n",
      "After 68339\n",
      "Before 68339\n",
      "After 1000\n",
      "Before 1000\n",
      "After 135498\n",
      "Before 135498\n",
      "After 1000\n",
      "Before 1000\n",
      "After 31544\n",
      "Before 31544\n"
     ]
    }
   ],
   "source": [
    "files = !ls ../../data_raw/Youdacc-fixed\n",
    "dict_dialects = {'EG': 'EG', 'Gulf': 'Gulf', 'IQ':'IQ', 'MSA': 'MSA', 'North': 'North'} #North = Levantine\n",
    "\n",
    "for f in files:\n",
    "    if f[:f.find('.')] == 'MSA':\n",
    "        dp.save_file(f[:-3]+'tsv', dp.preprocess('../../data_raw/Youdacc-fixed/{}'.format(f), f[:f.find('.')], f[:f.find('.')], f[:f.find('.')], f[:f.find('.')], header=None))\n",
    "\n",
    "    else:\n",
    "        dp.save_file(f[:-3]+'tsv', dp.preprocess('../../data_raw/Youdacc-fixed/{}'.format(f), '', '', '', dict_dialects[f[:f.find('.')]], header=None))\n",
    "\n",
    "\n"
   ]
  }
 ],
 "metadata": {
  "kernelspec": {
   "display_name": "Python 3",
   "language": "python",
   "name": "python3"
  },
  "language_info": {
   "codemirror_mode": {
    "name": "ipython",
    "version": 3
   },
   "file_extension": ".py",
   "mimetype": "text/x-python",
   "name": "python",
   "nbconvert_exporter": "python",
   "pygments_lexer": "ipython3",
   "version": "3.8.2"
  }
 },
 "nbformat": 4,
 "nbformat_minor": 4
}
