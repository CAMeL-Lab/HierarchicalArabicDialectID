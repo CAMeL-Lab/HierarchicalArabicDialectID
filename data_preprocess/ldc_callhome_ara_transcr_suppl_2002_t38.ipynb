{
 "cells": [
  {
   "cell_type": "code",
   "execution_count": 4,
   "metadata": {},
   "outputs": [],
   "source": [
    "import csv\n",
    "import re\n",
    "import os\n",
    "import pandas as pd\n",
    "from camel_tools.utils import charsets\n",
    "import sys\n",
    "# insert at 1, 0 is the script path (or '' in REPL)\n",
    "sys.path.append('/Users/nurpeiis/Desktop/Capstone/hierarchical-did/utils')\n",
    "from data_process import DataProcess"
   ]
  },
  {
   "cell_type": "code",
   "execution_count": 5,
   "metadata": {},
   "outputs": [],
   "source": [
    "def speakers_split(path_to_directory, filename):\n",
    "    # Cleaning data and splitting between speaker A and B\n",
    "    with open('{}/{}'.format(path_to_directory, filename), encoding='ISO-8859-6', errors='ignore') as f:\n",
    "        try:\n",
    "            lines_raw = f.read().splitlines()\n",
    "        except:\n",
    "            return False\n",
    "        lines = [i for i in lines_raw if i] \n",
    "    ar_letters = charsets.AR_LETTERS_CHARSET\n",
    "    reg=re.compile('^[{}]+$'.format(ar_letters))\n",
    "    speakers = {'A': [], 'B': []}\n",
    "    curr_speaker = 'A'\n",
    "    for l in lines:\n",
    "        word = l.split()\n",
    "        line = \"\"\n",
    "        for w in word:\n",
    "            if w == 'A:' or w == 'B:' or reg.match(w):\n",
    "                line += w + \" \"\n",
    "        line = line[:-1]\n",
    "        if line == 'A:':\n",
    "            curr_speaker = 'A'\n",
    "        elif line == 'B:':\n",
    "            curr_speaker = 'B'\n",
    "        #Get only lines that are purely in Arabic\n",
    "        if re.match(\"[\\(A-Za-z]\", line) == None and line != '':\n",
    "            speakers[curr_speaker].append(line)\n",
    "    return speakers"
   ]
  },
  {
   "cell_type": "code",
   "execution_count": 6,
   "metadata": {},
   "outputs": [],
   "source": [
    "def get_processed(speakers):\n",
    "    df_processed = pd.DataFrame()\n",
    "    df_processed['original_sentence'] = speakers['A']\n",
    "    df_processed['dialect_country_id'] = 'eg'\n",
    "    df_processed['dialect_region_id'] = 'nile_basin'\n",
    "\n",
    "    df_processed_b = pd.DataFrame()\n",
    "    df_processed_b['original_sentence'] = speakers['B']\n",
    "    df_processed_b['dialect_country_id'] = 'eg'\n",
    "    df_processed_b['dialect_region_id'] = 'nile_basin'\n",
    "\n",
    "\n",
    "    df_processed = df_processed.append(df_processed_b, ignore_index=True)\n",
    "    return df_processed"
   ]
  },
  {
   "cell_type": "code",
   "execution_count": 7,
   "metadata": {},
   "outputs": [],
   "source": [
    "def process_directory(path_to_directory):\n",
    "    df = pd.DataFrame(columns={'original_sentence', 'dialect_country_id', 'dialect_region_id'})\n",
    "    counter_bad = 0\n",
    "    files = os.listdir(path_to_directory)\n",
    "    for f in files:\n",
    "        if (f[-3:] == \"scr\"):\n",
    "            speakers = speakers_split(path_to_directory, f)\n",
    "            if speakers:\n",
    "                df = df.append(get_processed(speakers), ignore_index=True)\n",
    "            else:\n",
    "                counter_bad += 1\n",
    "    print('Unable to process {} files in the following directory: {}'.format(counter_bad, path_to_directory))\n",
    "    return df"
   ]
  },
  {
   "cell_type": "code",
   "execution_count": 8,
   "metadata": {},
   "outputs": [
    {
     "name": "stdout",
     "output_type": "stream",
     "text": [
      "Unable to process 0 files in the following directory: ../../data_raw/ldc_callhome_ara_transcr_suppl_2002_t38/transcr\n"
     ]
    }
   ],
   "source": [
    "df = process_directory('../../data_raw/ldc_callhome_ara_transcr_suppl_2002_t38/transcr')"
   ]
  },
  {
   "cell_type": "code",
   "execution_count": 9,
   "metadata": {},
   "outputs": [],
   "source": [
    "df.to_csv('../../data_raw/ldc_callhome_ara_transcr_suppl_2002_t38/processed.tsv', sep='\\t', index=False)"
   ]
  },
  {
   "cell_type": "code",
   "execution_count": 22,
   "metadata": {},
   "outputs": [],
   "source": [
    "dp = DataProcess('../data_processed_splited/ldc_callhome_ara_transcr_suppl_2002_t38/', 'user_level', 'speech_transcript', 'https://catalog.ldc.upenn.edu/LDC2002T38', 'ldc_callhome_ara_transcr_suppl_2002_t38', {},{},1, 'corpus', 'manual')"
   ]
  },
  {
   "cell_type": "code",
   "execution_count": 23,
   "metadata": {},
   "outputs": [],
   "source": [
    "dp.save_file('processed.tsv', dp.preprocess('../../data_raw/ldc_callhome_ara_transcr_suppl_2002_t38/processed.tsv', '', '', 2, 0, header=0))"
   ]
  },
  {
   "cell_type": "code",
   "execution_count": 26,
   "metadata": {},
   "outputs": [],
   "source": [
    "dp.save_features('../datasets_splited_features.tsv')"
   ]
  },
  {
   "cell_type": "code",
   "execution_count": 25,
   "metadata": {},
   "outputs": [],
   "source": [
    "files = ['processed.tsv']\n",
    "for file in files:\n",
    "    df_train, df_dev, df_test = dp.split(file, 0.8, 0.10, 0.10)\n",
    "    dp.save_file('train_'+file, df_train)    \n",
    "    dp.save_file('dev_'+file, df_dev)\n",
    "    dp.save_file('test_'+file, df_test)"
   ]
  },
  {
   "cell_type": "code",
   "execution_count": null,
   "metadata": {},
   "outputs": [],
   "source": []
  }
 ],
 "metadata": {
  "kernelspec": {
   "display_name": "Python 3",
   "language": "python",
   "name": "python3"
  },
  "language_info": {
   "codemirror_mode": {
    "name": "ipython",
    "version": 3
   },
   "file_extension": ".py",
   "mimetype": "text/x-python",
   "name": "python",
   "nbconvert_exporter": "python",
   "pygments_lexer": "ipython3",
   "version": "3.8.2"
  }
 },
 "nbformat": 4,
 "nbformat_minor": 4
}
