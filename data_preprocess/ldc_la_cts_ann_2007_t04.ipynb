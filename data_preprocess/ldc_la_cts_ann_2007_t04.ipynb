{
 "cells": [
  {
   "cell_type": "code",
   "execution_count": 1,
   "metadata": {},
   "outputs": [],
   "source": [
    "import re\n",
    "import csv\n",
    "import pandas as pd\n",
    "import os\n",
    "from camel_tools.utils import charsets\n",
    "import sys\n",
    "# insert at 1, 0 is the script path (or '' in REPL)\n",
    "sys.path.append('/Users/nurpeiis/Desktop/Capstone/hierarchical-did/utils')\n",
    "from data_process import DataProcess"
   ]
  },
  {
   "cell_type": "code",
   "execution_count": 18,
   "metadata": {},
   "outputs": [],
   "source": [
    "def get_speakers_info():\n",
    "    with open('../../data_raw/ldc_la_cts_ann_2007_t04/docs/speaker_info_new.txt') as f: #removed description\n",
    "        lines = f.read().splitlines()\n",
    "    df_speaker_info = pd.DataFrame(columns={\"filename\", \"A\", \"B\"})\n",
    "    for l in lines:\n",
    "        try:\n",
    "            filename = l.split()[0][:-1]\n",
    "            A = l.split()[1].split(':')[1] if l.split()[1].split(':')[1] != 'Lev' else ''\n",
    "            B = l.split()[1].split(':')[5] if l.split()[1].split(':')[5] != 'Lev' else ''\n",
    "            file_dict = {\"filename\": filename, 'A': A, 'B': B}\n",
    "            df_speaker_info = df_speaker_info.append(file_dict, ignore_index=True)\n",
    "        except:\n",
    "            continue\n",
    "    return df_speaker_info\n",
    "#get_speakers_info()['B'].unique()"
   ]
  },
  {
   "cell_type": "code",
   "execution_count": 8,
   "metadata": {},
   "outputs": [],
   "source": [
    "def speakers_split(path_to_directory, filename):\n",
    "    # Cleaning data and splitting between speaker A and B\n",
    "    with open('{}/{}'.format(path_to_directory, filename)) as f:\n",
    "        try:\n",
    "            lines_raw = f.read().splitlines()\n",
    "        except:\n",
    "            return False\n",
    "        lines = [i for i in lines_raw if i] \n",
    "    ar_letters = charsets.AR_LETTERS_CHARSET\n",
    "    reg=re.compile('^[{}\\^]+$'.format(ar_letters))\n",
    "    speakers = {'A': [], 'B': []}\n",
    "    curr_speaker = 'A'\n",
    "    for l in lines:\n",
    "        word = l.split()\n",
    "        line = \"\"\n",
    "        for w in word:\n",
    "            if w == 'A:' or w == 'B:' or reg.match(w):\n",
    "                line += w + \" \"\n",
    "        line = line[:-1]\n",
    "        if 'A:' in line:\n",
    "            curr_speaker = 'A'\n",
    "            line = line.replace('A:','')\n",
    "        elif 'B:' in line:\n",
    "            curr_speaker = 'B'            \n",
    "            line = line.replace('B:','')\n",
    "        line = line.replace('tnfs', '')\n",
    "        #print(line)\n",
    "        #Get only lines that are purely in Arabic\n",
    "        line = line.replace('(', '')        \n",
    "        line = line.replace(')', '')\n",
    "        #print(line)\n",
    "        if re.match(\"[\\(A-Za-z]\", line) == None and line != '':\n",
    "            speakers[curr_speaker].append(line)\n",
    "    return speakers\n",
    "#speakers_split('../../data_raw/ldc_la_cts_ann_2007_t04/data/annotation', 'fla_0001.txt')"
   ]
  },
  {
   "cell_type": "code",
   "execution_count": 26,
   "metadata": {},
   "outputs": [],
   "source": [
    "def get_processed(speakers, country_a, country_b):\n",
    "    df_processed = pd.DataFrame()\n",
    "    df_processed['original_sentence'] = speakers['A']\n",
    "    df_processed['dialect_country_id'] = country_a\n",
    "    df_processed['dialect_region_id'] = 'Levantine' if (country_a != 'IRQ' and country_a != 'YEM') else ''\n",
    "    df_processed_b = pd.DataFrame()\n",
    "    df_processed_b['original_sentence'] = speakers['B']\n",
    "    df_processed_b['dialect_country_id'] = country_b\n",
    "    df_processed_b['dialect_region_id'] = 'Levantine'  if (country_b != 'IRQ' and country_b != 'YEM') else ''\n",
    "\n",
    "    df_processed = df_processed.append(df_processed_b, ignore_index=True)\n",
    "    return df_processed"
   ]
  },
  {
   "cell_type": "code",
   "execution_count": 27,
   "metadata": {},
   "outputs": [],
   "source": [
    "def process_directory(path_to_directory):\n",
    "    df = pd.DataFrame(columns={'original_sentence', 'dialect_country_id', 'dialect_region_id'})\n",
    "\n",
    "    df_speakers = get_speakers_info()\n",
    "    counter_bad = 0\n",
    "    files = os.listdir(path_to_directory)\n",
    "    for f in files:\n",
    "        try:\n",
    "            country_a = df_speakers.loc[df_speakers[\"filename\"] == f].iloc[0]['A']\n",
    "            country_b = df_speakers.loc[df_speakers[\"filename\"] == f].iloc[0]['B']\n",
    "            speakers = speakers_split(path_to_directory, f)\n",
    "            if speakers:\n",
    "                df = df.append(get_processed(speakers, country_a, country_b), ignore_index=True)\n",
    "            else:\n",
    "                counter_bad += 1\n",
    "        except:\n",
    "            print(\"Bad\", f)\n",
    "            continue\n",
    "    print('Unable to process {} files in the following directory: {}'.format(counter_bad, path_to_directory))\n",
    "    return df"
   ]
  },
  {
   "cell_type": "code",
   "execution_count": 28,
   "metadata": {},
   "outputs": [
    {
     "name": "stdout",
     "output_type": "stream",
     "text": [
      "Unable to process 0 files in the following directory: ../../data_raw/ldc_la_cts_ann_2007_t04/data/annotation\n"
     ]
    }
   ],
   "source": [
    "df = process_directory('../../data_raw/ldc_la_cts_ann_2007_t04/data/annotation')\n",
    "df.to_csv('../../data_raw/ldc_la_cts_ann_2007_t04/processed.tsv', sep='\\t', index=False)"
   ]
  },
  {
   "cell_type": "code",
   "execution_count": 2,
   "metadata": {},
   "outputs": [],
   "source": [
    "dp = DataProcess('../data_processed_splited/ldc_la_cts_ann_2007_t04/', 'user_level', 'speech_transcript', 'https://catalog.ldc.upenn.edu/LDC2007T04', 'ldc_la_cts_ann_2007_t04', {},{},2, 'corpus', 'manual')"
   ]
  },
  {
   "cell_type": "code",
   "execution_count": 4,
   "metadata": {},
   "outputs": [],
   "source": [
    "df = pd.read_csv('../data_processed/ldc_la_cts_ann_2007_t04/processed.tsv', delimiter='\\t', header=0, index_col=0)\n",
    "df['split_original_manual'] = 'manual'\n",
    "df.to_csv('../data_processed_splited/ldc_la_cts_ann_2007_t04/processed.tsv', sep='\\t')\n",
    "files = ['processed.tsv']\n",
    "for file in files:\n",
    "    df_train, df_dev, df_test = dp.split(file, 0.8, 0.10, 0.10)\n",
    "    dp.save_file('train_'+file, df_train)    \n",
    "    dp.save_file('dev_'+file, df_dev)\n",
    "    dp.save_file('test_'+file, df_test)"
   ]
  },
  {
   "cell_type": "code",
   "execution_count": 30,
   "metadata": {},
   "outputs": [],
   "source": [
    "dp.save_file('processed.tsv', dp.preprocess('../../data_raw/ldc_la_cts_ann_2007_t04/processed.tsv', '', '', 1, 0, header=0))"
   ]
  },
  {
   "cell_type": "code",
   "execution_count": 5,
   "metadata": {},
   "outputs": [],
   "source": [
    "dp.save_features('../datasets_splited_features.tsv')"
   ]
  },
  {
   "cell_type": "code",
   "execution_count": null,
   "metadata": {},
   "outputs": [],
   "source": []
  }
 ],
 "metadata": {
  "kernelspec": {
   "display_name": "Python 3",
   "language": "python",
   "name": "python3"
  },
  "language_info": {
   "codemirror_mode": {
    "name": "ipython",
    "version": 3
   },
   "file_extension": ".py",
   "mimetype": "text/x-python",
   "name": "python",
   "nbconvert_exporter": "python",
   "pygments_lexer": "ipython3",
   "version": "3.8.2"
  }
 },
 "nbformat": 4,
 "nbformat_minor": 4
}
