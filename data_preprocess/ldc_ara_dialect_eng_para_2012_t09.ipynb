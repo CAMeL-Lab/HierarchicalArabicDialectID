{
 "cells": [
  {
   "cell_type": "code",
   "execution_count": 1,
   "metadata": {},
   "outputs": [],
   "source": [
    "import re\n",
    "import csv\n",
    "import pandas as pd\n",
    "import os\n",
    "from camel_tools.utils import charsets\n",
    "import sys\n",
    "# insert at 1, 0 is the script path (or '' in REPL)\n",
    "sys.path.append('/Users/nurpeiis/Desktop/Capstone/hierarchical-did/utils')\n",
    "from data_process import DataProcess"
   ]
  },
  {
   "cell_type": "code",
   "execution_count": 6,
   "metadata": {},
   "outputs": [
    {
     "data": {
      "text/html": [
       "<div>\n",
       "<style scoped>\n",
       "    .dataframe tbody tr th:only-of-type {\n",
       "        vertical-align: middle;\n",
       "    }\n",
       "\n",
       "    .dataframe tbody tr th {\n",
       "        vertical-align: top;\n",
       "    }\n",
       "\n",
       "    .dataframe thead th {\n",
       "        text-align: right;\n",
       "    }\n",
       "</style>\n",
       "<table border=\"1\" class=\"dataframe\">\n",
       "  <thead>\n",
       "    <tr style=\"text-align: right;\">\n",
       "      <th></th>\n",
       "      <th>original_sentence</th>\n",
       "      <th>dialect_region_id</th>\n",
       "      <th>dialect_country_id</th>\n",
       "    </tr>\n",
       "  </thead>\n",
       "  <tbody>\n",
       "    <tr>\n",
       "      <th>0</th>\n",
       "      <td>وهي مبروك مرة تانية</td>\n",
       "      <td>levant</td>\n",
       "      <td></td>\n",
       "    </tr>\n",
       "    <tr>\n",
       "      <th>1</th>\n",
       "      <td>ناطرين مواضيعك بس هل الأيام وقت امتحانات رح نن...</td>\n",
       "      <td>levant</td>\n",
       "      <td></td>\n",
       "    </tr>\n",
       "    <tr>\n",
       "      <th>2</th>\n",
       "      <td>ناولني المايك من عندك ... حاجتك صارلك ساعتين م...</td>\n",
       "      <td>levant</td>\n",
       "      <td></td>\n",
       "    </tr>\n",
       "    <tr>\n",
       "      <th>3</th>\n",
       "      <td>بقا دعولي الله لا يضيعلي تعب و ينولني يلي ببالي</td>\n",
       "      <td>levant</td>\n",
       "      <td></td>\n",
       "    </tr>\n",
       "    <tr>\n",
       "      <th>4</th>\n",
       "      <td>انتي جيبي معك سجاده صلاتك وبرأيي انو الصلاه ما...</td>\n",
       "      <td>levant</td>\n",
       "      <td></td>\n",
       "    </tr>\n",
       "    <tr>\n",
       "      <th>...</th>\n",
       "      <td>...</td>\n",
       "      <td>...</td>\n",
       "      <td>...</td>\n",
       "    </tr>\n",
       "    <tr>\n",
       "      <th>138005</th>\n",
       "      <td>يسلمو نارووو و يسلمو نورووو « جاري التحميل »</td>\n",
       "      <td>levant</td>\n",
       "      <td></td>\n",
       "    </tr>\n",
       "    <tr>\n",
       "      <th>138006</th>\n",
       "      <td>اما الباقي الوبر بيحميه</td>\n",
       "      <td>levant</td>\n",
       "      <td></td>\n",
       "    </tr>\n",
       "    <tr>\n",
       "      <th>138007</th>\n",
       "      <td>بيضربوه سطعشر الف منية</td>\n",
       "      <td>levant</td>\n",
       "      <td></td>\n",
       "    </tr>\n",
       "    <tr>\n",
       "      <th>138008</th>\n",
       "      <td>ما بتهيألى إنه فى شى بسر علشان نضحك بمعنى الضح...</td>\n",
       "      <td>levant</td>\n",
       "      <td></td>\n",
       "    </tr>\n",
       "    <tr>\n",
       "      <th>138009</th>\n",
       "      <td>شوف بقى يا فيل إنت عقابك الوحيد إنى أضبفك فى ا...</td>\n",
       "      <td>levant</td>\n",
       "      <td></td>\n",
       "    </tr>\n",
       "  </tbody>\n",
       "</table>\n",
       "<p>138010 rows × 3 columns</p>\n",
       "</div>"
      ],
      "text/plain": [
       "                                        original_sentence dialect_region_id  \\\n",
       "0                                   وهي مبروك مرة تانية              levant   \n",
       "1       ناطرين مواضيعك بس هل الأيام وقت امتحانات رح نن...            levant   \n",
       "2       ناولني المايك من عندك ... حاجتك صارلك ساعتين م...            levant   \n",
       "3        بقا دعولي الله لا يضيعلي تعب و ينولني يلي ببالي             levant   \n",
       "4       انتي جيبي معك سجاده صلاتك وبرأيي انو الصلاه ما...            levant   \n",
       "...                                                   ...               ...   \n",
       "138005      يسلمو نارووو و يسلمو نورووو « جاري التحميل »             levant   \n",
       "138006                           اما الباقي الوبر بيحميه             levant   \n",
       "138007                            بيضربوه سطعشر الف منية             levant   \n",
       "138008  ما بتهيألى إنه فى شى بسر علشان نضحك بمعنى الضح...            levant   \n",
       "138009  شوف بقى يا فيل إنت عقابك الوحيد إنى أضبفك فى ا...            levant   \n",
       "\n",
       "       dialect_country_id  \n",
       "0                          \n",
       "1                          \n",
       "2                          \n",
       "3                          \n",
       "4                          \n",
       "...                   ...  \n",
       "138005                     \n",
       "138006                     \n",
       "138007                     \n",
       "138008                     \n",
       "138009                     \n",
       "\n",
       "[138010 rows x 3 columns]"
      ]
     },
     "execution_count": 6,
     "metadata": {},
     "output_type": "execute_result"
    }
   ],
   "source": [
    "import xml.etree.ElementTree as et \n",
    "#Step 0: From xml to csv\n",
    "xtree = et.parse('../../data_raw/ldc_ara_dialect_eng_para_2012_t09/data/BBN-Dialect_Arabic-English-Web.xml')\n",
    "xroot = xtree.getroot()\n",
    "rows_eg = []\n",
    "rows_levant = []\n",
    "cols = [\"original_sentence\", \"dialect_region_id\", \"dialect_country_id\"]\n",
    "dialects = set()\n",
    "for node in xroot: \n",
    "    if(node.find(\"DIALECT\").text == 'EGYPTIAN'):\n",
    "        rows_eg.append({'dialect_region_id': 'nile_basin', 'dialect_country_id': 'eg', 'original_sentence': node.find(\"SOURCE\").text})\n",
    "    else:\n",
    "        rows_levant.append({'dialect_region_id': 'levant', 'dialect_country_id': '', 'original_sentence': node.find(\"SOURCE\").text})\n",
    "df_eg = pd.DataFrame(rows_eg, columns=cols)\n",
    "df_eg.to_csv('../../data_raw/ldc_ara_dialect_eng_para_2012_t09/eg_processed.tsv', sep='\\t', index=False)\n",
    "df_levant = pd.DataFrame(rows_levant, columns=cols)\n",
    "df_levant.to_csv('../../data_raw/ldc_ara_dialect_eng_para_2012_t09/levant_processed.tsv', sep='\\t', index=False)\n",
    "\n",
    "\n",
    "df_levant"
   ]
  },
  {
   "cell_type": "code",
   "execution_count": 10,
   "metadata": {},
   "outputs": [],
   "source": [
    "dp = DataProcess('../data_processed_splited/ldc_ara_dialect_eng_para_2012_t09/', 'mechanical_turk_annotators', 'web_mixed', 'https://catalog.ldc.upenn.edu/LDC2012T09', 'ldc_ara_dialect_eng_para_2012_t09', {},{},0, 'corpus', 'manual')"
   ]
  },
  {
   "cell_type": "code",
   "execution_count": 11,
   "metadata": {},
   "outputs": [],
   "source": [
    "dp.save_file('eg_processed.tsv', dp.preprocess('../../data_raw/ldc_ara_dialect_eng_para_2012_t09/eg_processed.tsv', '', '', 2, 1, header=0))\n",
    "dp.save_file('levant_processed.tsv', dp.preprocess('../../data_raw/ldc_ara_dialect_eng_para_2012_t09/levant_processed.tsv', '', '', 2, 1, header=0))"
   ]
  },
  {
   "cell_type": "code",
   "execution_count": 8,
   "metadata": {},
   "outputs": [
    {
     "name": "stderr",
     "output_type": "stream",
     "text": [
      "/Users/nurpeiis/miniconda3/envs/hierarchical-did/lib/python3.8/site-packages/IPython/core/interactiveshell.py:3254: DtypeWarning: Columns (3) have mixed types.Specify dtype option on import or set low_memory=False.\n",
      "  if (await self.run_code(code, result,  async_=asy)):\n"
     ]
    }
   ],
   "source": [
    "dp.save_features('../datasets_splited_features.tsv')"
   ]
  },
  {
   "cell_type": "code",
   "execution_count": 12,
   "metadata": {},
   "outputs": [],
   "source": [
    "files = ['eg_processed.tsv', 'levant_processed.tsv']\n",
    "for file in files:\n",
    "    df_train, df_dev, df_test = dp.split(file, 0.8, 0.10, 0.10)\n",
    "    dp.save_file('train_'+file, df_train)    \n",
    "    dp.save_file('dev_'+file, df_dev)\n",
    "    dp.save_file('test_'+file, df_test)"
   ]
  },
  {
   "cell_type": "code",
   "execution_count": null,
   "metadata": {},
   "outputs": [],
   "source": []
  }
 ],
 "metadata": {
  "kernelspec": {
   "display_name": "Python 3",
   "language": "python",
   "name": "python3"
  },
  "language_info": {
   "codemirror_mode": {
    "name": "ipython",
    "version": 3
   },
   "file_extension": ".py",
   "mimetype": "text/x-python",
   "name": "python",
   "nbconvert_exporter": "python",
   "pygments_lexer": "ipython3",
   "version": "3.8.2"
  }
 },
 "nbformat": 4,
 "nbformat_minor": 4
}
