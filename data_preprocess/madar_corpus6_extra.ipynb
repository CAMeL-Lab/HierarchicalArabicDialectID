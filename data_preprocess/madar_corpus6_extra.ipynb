{
 "cells": [
  {
   "cell_type": "code",
   "execution_count": 1,
   "metadata": {},
   "outputs": [],
   "source": [
    "import re\n",
    "import csv\n",
    "import pandas as pd\n",
    "import os\n",
    "from camel_tools.utils import charsets\n",
    "import xml.etree.ElementTree as et\n",
    "import sys\n",
    "# insert at 1, 0 is the script path (or '' in REPL)\n",
    "sys.path.append('/Users/nurpeiis/Desktop/Capstone/hierarchical-did/utils')\n",
    "from data_process import DataProcess"
   ]
  },
  {
   "cell_type": "code",
   "execution_count": 2,
   "metadata": {},
   "outputs": [],
   "source": [
    "dp = DataProcess('../data_processed_splited/madar_corpus6_extra/', 'manual_translation', 'travel_domain', 'https://camel.abudhabi.nyu.edu/madar-shared-task-2019/', 'madar_corpus6_extra', {},{},0, 'corpus', 'original')"
   ]
  },
  {
   "cell_type": "code",
   "execution_count": null,
   "metadata": {},
   "outputs": [],
   "source": [
    "files = os.listdir('../data_processed/madar_corpus6_extra/')\n",
    "for file in files:\n",
    "    df = pd.read_csv('../data_processed/madar_shared_task1/'+file, delimiter='\\t', header=0, index_col=0)\n",
    "    df['split_original_manual'] = 'original'\n",
    "    df.to_csv('../data_processed_splited/madar_shared_task1/'+file, sep='\\t')"
   ]
  },
  {
   "cell_type": "code",
   "execution_count": 8,
   "metadata": {},
   "outputs": [],
   "source": [
    "files = !ls ../../data_raw/Madar-Corpus5-extra8K\n",
    "for f in files:\n",
    "    dialect = f[5:-7]\n",
    "    if dialect != 'EN' and dialect != 'FR':\n",
    "        dp.save_file(f, dp.preprocess('../../data_raw/Madar-Corpus5-extra8K/{}'.format(f), dialect, '', '', '', header=None))\n",
    "\n",
    "\n"
   ]
  },
  {
   "cell_type": "code",
   "execution_count": 9,
   "metadata": {},
   "outputs": [],
   "source": [
    "dp.save_features('../datasets_features.tsv')"
   ]
  }
 ],
 "metadata": {
  "kernelspec": {
   "display_name": "Python 3",
   "language": "python",
   "name": "python3"
  },
  "language_info": {
   "codemirror_mode": {
    "name": "ipython",
    "version": 3
   },
   "file_extension": ".py",
   "mimetype": "text/x-python",
   "name": "python",
   "nbconvert_exporter": "python",
   "pygments_lexer": "ipython3",
   "version": "3.8.2"
  }
 },
 "nbformat": 4,
 "nbformat_minor": 4
}
