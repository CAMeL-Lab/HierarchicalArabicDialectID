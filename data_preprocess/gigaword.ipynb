{
 "cells": [
  {
   "cell_type": "code",
   "execution_count": 46,
   "metadata": {},
   "outputs": [],
   "source": [
    "import os \n",
    "import re\n",
    "import sys\n",
    "import gzip\n",
    "import codecs\n",
    "import shutil\n",
    "import pandas as pd\n",
    "from ofxparse import OfxParser\n",
    "# insert at 1, 0 is the script path (or '' in REPL)\n",
    "sys.path.append('/Users/nurpeiis/Desktop/Capstone/hierarchical-did/utils')\n",
    "from data_process import DataProcess\n",
    "import xml.etree.ElementTree as ET\n",
    "from bs4 import BeautifulSoup\n"
   ]
  },
  {
   "cell_type": "code",
   "execution_count": 2,
   "metadata": {},
   "outputs": [
    {
     "name": "stdout",
     "output_type": "stream",
     "text": [
      "ahr_arb done\n",
      "hyt_arb done\n",
      "afp_arb done\n",
      "xin_arb done\n",
      "asb_arb done\n",
      "umh_arb done\n",
      "qds_arb done\n",
      "aaw_arb done\n",
      "nhr_arb done\n"
     ]
    }
   ],
   "source": [
    "folder = '../../data_raw/arb_gw_5/data/'\n",
    "sub_folders = [i for i in os.listdir(folder) if ('DS_Store' in i) == False]\n",
    "for sub_folder in sub_folders:\n",
    "    # unzip all files\n",
    "    files = [i for i in os.listdir(f'{folder}{sub_folder}') if ('DS_Store' in i) == False and '.gz' in i]\n",
    "    for file in files:\n",
    "        with gzip.open(f'{folder}{sub_folder}/{file}', 'rb') as f_in:\n",
    "            with open(f'{folder}{sub_folder}/{file[:-3]}', 'wb') as f_out:\n",
    "                shutil.copyfileobj(f_in, f_out)\n",
    "    print(f'{sub_folder} done')\n",
    "    os.system(f'rm {folder}{sub_folders[0]}/*.gz')"
   ]
  },
  {
   "cell_type": "code",
   "execution_count": 4,
   "metadata": {},
   "outputs": [
    {
     "data": {
      "text/plain": [
       "['ahr_arb_201011',\n",
       " 'ahr_arb_200902',\n",
       " 'ahr_arb_200905',\n",
       " 'ahr_arb_200704',\n",
       " 'ahr_arb_200703',\n",
       " 'ahr_arb_200904',\n",
       " 'ahr_arb_200903',\n",
       " 'ahr_arb_201010',\n",
       " 'ahr_arb_200702',\n",
       " 'ahr_arb_200705',\n",
       " 'ahr_arb_200612',\n",
       " 'ahr_arb_200812',\n",
       " 'ahr_arb_200801',\n",
       " 'ahr_arb_200806',\n",
       " 'ahr_arb_200808',\n",
       " 'ahr_arb_200809',\n",
       " 'ahr_arb_200807',\n",
       " 'ahr_arb_200711',\n",
       " 'ahr_arb_200910',\n",
       " 'ahr_arb_201004',\n",
       " 'ahr_arb_201003',\n",
       " 'ahr_arb_200710',\n",
       " 'ahr_arb_201002',\n",
       " 'ahr_arb_201005',\n",
       " 'ahr_arb_200911',\n",
       " 'ahr_arb_200707',\n",
       " 'ahr_arb_200709',\n",
       " 'ahr_arb_200908',\n",
       " 'ahr_arb_201012',\n",
       " 'ahr_arb_200906',\n",
       " 'ahr_arb_200901',\n",
       " 'ahr_arb_200708',\n",
       " 'ahr_arb_200706',\n",
       " 'ahr_arb_200701',\n",
       " 'ahr_arb_200907',\n",
       " 'ahr_arb_200909',\n",
       " 'ahr_arb_200611',\n",
       " 'ahr_arb_200810',\n",
       " 'ahr_arb_200811',\n",
       " 'ahr_arb_200805',\n",
       " 'ahr_arb_200802',\n",
       " 'ahr_arb_200803',\n",
       " 'ahr_arb_200804',\n",
       " 'ahr_arb_201009',\n",
       " 'ahr_arb_201007',\n",
       " 'ahr_arb_200712',\n",
       " 'ahr_arb_201006',\n",
       " 'ahr_arb_201001',\n",
       " 'ahr_arb_201008',\n",
       " 'ahr_arb_200912',\n",
       " 'ahr_arb_201']"
      ]
     },
     "execution_count": 4,
     "metadata": {},
     "output_type": "execute_result"
    }
   ],
   "source": [
    "\n",
    "files = [i for i in os.listdir(f'{folder}{sub_folders[0]}') if ('DS_Store' in i) == False]\n",
    "\n",
    "files"
   ]
  },
  {
   "cell_type": "code",
   "execution_count": 69,
   "metadata": {},
   "outputs": [
    {
     "name": "stdout",
     "output_type": "stream",
     "text": [
      "xin_arb\n",
      "asb_arb\n",
      "umh_arb\n",
      "qds_arb\n",
      "aaw_arb\n",
      "nhr_arb\n"
     ]
    }
   ],
   "source": [
    "folder = '../../data_raw/arb_gw_5/data/'\n",
    "sub_folders = [i for i in os.listdir(folder) if ('DS_Store' in i) == False and ('final' in i) == False]\n",
    "\n",
    "for sub_folder in sub_folders:\n",
    "    # unzip all files\n",
    "    files = [i for i in os.listdir(f'{folder}{sub_folder}') if ('DS_Store' in i) == False]\n",
    "    print(sub_folder)\n",
    "    for file in files:\n",
    "        with open(f'{folder}{sub_folder}/{file}') as f:\n",
    "            lines = f.read().splitlines()\n",
    "        sentences = dict()\n",
    "        counter = 0\n",
    "        for i in range(len(lines)):\n",
    "            if lines[i] == '<HEADLINE>':\n",
    "                counter += 1\n",
    "                sentences[counter] = []\n",
    "                sentences[counter].append(lines[i+1])\n",
    "            if lines[i] == '<P>':\n",
    "                i = i+1\n",
    "                while lines[i] != '</P>':\n",
    "                    if (counter in sentences) == False:\n",
    "                        sentences[counter] = []\n",
    "                    sentences[counter].append(lines[i])\n",
    "                    i = i + 1\n",
    "            \n",
    "        for key in sentences.keys():\n",
    "            with open(f'{folder}final/{sub_folder}_{key}', 'w') as f:\n",
    "                for item in sentences[key]:\n",
    "                    f.write(\"%s\\n\" % item)"
   ]
  },
  {
   "cell_type": "code",
   "execution_count": null,
   "metadata": {},
   "outputs": [],
   "source": [
    "folder = '../../data_raw/arb_gw_5/data/'\n",
    "sub_folders = [i for i in os.listdir(folder) if ('DS_Store' in i) == False and ('final' in i) == False]\n",
    "\n",
    "\n"
   ]
  }
 ],
 "metadata": {
  "kernelspec": {
   "display_name": "Python 3.8.2 64-bit ('hierarchical-did': conda)",
   "language": "python",
   "name": "python38264bithierarchicaldidconda4487f863c8784fb2a7811f83c7f12f9c"
  },
  "language_info": {
   "codemirror_mode": {
    "name": "ipython",
    "version": 3
   },
   "file_extension": ".py",
   "mimetype": "text/x-python",
   "name": "python",
   "nbconvert_exporter": "python",
   "pygments_lexer": "ipython3",
   "version": "3.8.2"
  }
 },
 "nbformat": 4,
 "nbformat_minor": 4
}
