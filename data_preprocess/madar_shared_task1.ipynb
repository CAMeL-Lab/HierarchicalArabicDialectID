{
 "cells": [
  {
   "cell_type": "code",
   "execution_count": 1,
   "metadata": {},
   "outputs": [],
   "source": [
    "import csv\n",
    "import pandas as pd\n",
    "import os\n",
    "import sys\n",
    "# insert at 1, 0 is the script path (or '' in REPL)\n",
    "sys.path.append('/Users/nurpeiis/Desktop/Capstone/hierarchical-did/utils')\n",
    "from data_process import DataProcess"
   ]
  },
  {
   "cell_type": "code",
   "execution_count": 2,
   "metadata": {},
   "outputs": [],
   "source": [
    "dp = DataProcess('../data_processed_splited/madar_shared_task1/', 'manual_translation', 'travel_domain', 'https://camel.abudhabi.nyu.edu/madar-shared-task-2019/', 'madar_shared_task1', {},{},0, 'corpus', 'original')"
   ]
  },
  {
   "cell_type": "code",
   "execution_count": 3,
   "metadata": {},
   "outputs": [],
   "source": [
    "files = os.listdir('../data_processed/madar_shared_task1/')\n",
    "for file in files:\n",
    "    df = pd.read_csv('../data_processed/madar_shared_task1/'+file, delimiter='\\t', header=0, index_col=0)\n",
    "    df['split_original_manual'] = 'original'\n",
    "    df.to_csv('../data_processed_splited/madar_shared_task1/'+file, sep='\\t')"
   ]
  },
  {
   "cell_type": "code",
   "execution_count": 3,
   "metadata": {},
   "outputs": [
    {
     "name": "stdout",
     "output_type": "stream",
     "text": [
      "After 5200\n",
      "Before 5200\n",
      "After 5200\n",
      "Before 5200\n",
      "After 41600\n",
      "Before 41600\n",
      "After 6000\n",
      "Before 6000\n",
      "After 54000\n",
      "Before 54000\n"
     ]
    }
   ],
   "source": [
    "files = !ls ../../data_raw/MADAR-SHARED-TASK/MADAR-Shared-Task-Subtask-1 \n",
    "for f in files:\n",
    "    if f[len(f)-3:] == 'tsv':\n",
    "        dp.save_file(f, dp.preprocess('../../data_raw/MADAR-SHARED-TASK/MADAR-Shared-Task-Subtask-1/{}'.format(f), 1, '', '', '', header=None))\n"
   ]
  },
  {
   "cell_type": "code",
   "execution_count": 4,
   "metadata": {},
   "outputs": [],
   "source": [
    "dp.save_features('../datasets_splited_features.tsv')"
   ]
  },
  {
   "cell_type": "code",
   "execution_count": 2,
   "metadata": {},
   "outputs": [],
   "source": [
    "#Change Tripoli to Lybian tripoli rather than Lebanon\n",
    "folder = '../data_processed/madar_shared_task1/'\n",
    "files = os.listdir(folder)\n",
    "for file in files:\n",
    "    df = pd.read_csv(f'{folder}{file}', delimiter='\\t', header=0)\n",
    "    for index, row in df.iterrows():\n",
    "        if row['dialect_province_id'] == 'tripoli':\n",
    "            row['dialect_city_id'] = 'tripoli'\n",
    "            row['dialect_province_id'] = 'tripoli'\n",
    "            row['dialect_country_id'] = 'ly'\n",
    "            row['dialect_region_id'] = 'maghreb'\n",
    "    df.to_csv(f'{folder}{file}', sep='\\t', index=False)"
   ]
  },
  {
   "cell_type": "code",
   "execution_count": 3,
   "metadata": {},
   "outputs": [],
   "source": [
    "#Change Ad Dahwan to Doha tripoli rather than Lebanon\n",
    "folder = '../data_processed/madar_shared_task1/'\n",
    "files = os.listdir(folder)\n",
    "for file in files:\n",
    "    df = pd.read_csv(f'{folder}{file}', delimiter='\\t', header=0)\n",
    "    for index, row in df.iterrows():\n",
    "        if row['dialect_province_id'] == 'ad_dawhah':\n",
    "            row['dialect_province_id'] = 'doha'\n",
    "    df.to_csv(f'{folder}{file}', sep='\\t', index=False)"
   ]
  },
  {
   "cell_type": "code",
   "execution_count": null,
   "metadata": {},
   "outputs": [],
   "source": []
  }
 ],
 "metadata": {
  "kernelspec": {
   "display_name": "Python 3",
   "language": "python",
   "name": "python3"
  },
  "language_info": {
   "codemirror_mode": {
    "name": "ipython",
    "version": 3
   },
   "file_extension": ".py",
   "mimetype": "text/x-python",
   "name": "python",
   "nbconvert_exporter": "python",
   "pygments_lexer": "ipython3",
   "version": "3.8.2"
  }
 },
 "nbformat": 4,
 "nbformat_minor": 4
}
