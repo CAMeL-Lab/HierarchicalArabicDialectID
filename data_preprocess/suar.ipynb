{
 "cells": [
  {
   "cell_type": "code",
   "execution_count": 1,
   "metadata": {},
   "outputs": [],
   "source": [
    "import csv\n",
    "import pandas as pd\n",
    "import os\n",
    "import sys\n",
    "# insert at 1, 0 is the script path (or '' in REPL)\n",
    "sys.path.append('/Users/nurpeiis/Desktop/Capstone/hierarchical-did/utils')\n",
    "from data_process import DataProcess"
   ]
  },
  {
   "cell_type": "code",
   "execution_count": 2,
   "metadata": {},
   "outputs": [],
   "source": [
    "files = os.listdir('../data_processed/suar/')\n",
    "for file in files:\n",
    "    df = pd.read_csv('../data_processed/suar/'+file, delimiter='\\t', header=0, index_col=0)\n",
    "    df['split_original_manual'] = 'manual'\n",
    "    df.to_csv('../data_processed_splited/suar/'+file, sep='\\t')"
   ]
  },
  {
   "cell_type": "code",
   "execution_count": 4,
   "metadata": {},
   "outputs": [],
   "source": [
    "dp = DataProcess('../data_processed_splited/suar/', \"hashtag_level\", \"twitter\", 'https://www.sciencedirect.com/science/article/pii/S187705091832163X', \n",
    "                 'suar', {},{},0,'corpus', 'manual') \n",
    "dp.save_features('../datasets_splited_features.tsv')\n",
    "\n"
   ]
  },
  {
   "cell_type": "code",
   "execution_count": 5,
   "metadata": {},
   "outputs": [],
   "source": [
    "files = os.listdir('../data_processed_splited/suar/')\n",
    "for file in files:\n",
    "    df_train, df_dev, df_test = dp.split(file, 0.8, 0.1, 0.1)\n",
    "    dp.save_file('train_'+file, df_train)    \n",
    "    dp.save_file('dev_'+file, df_dev)\n",
    "    dp.save_file('test_'+file, df_test)"
   ]
  },
  {
   "cell_type": "code",
   "execution_count": 5,
   "metadata": {},
   "outputs": [],
   "source": [
    "raw_folder = '../../data_raw/SUAR/Additional_Cleaning/'\n",
    "def suar_process(data_source, data_annotation_method, start_index, end_index, province_list):\n",
    "    dp = DataProcess('../data_preprocessed/suar/', data_annotation_method, data_source, 'https://www.sciencedirect.com/science/article/pii/S187705091832163X', \n",
    "                 'suar', {},{},0,'corpus') \n",
    "    for f in range(start_index, end_index):\n",
    "        dp.save_file(data_source + '_' + str(f) +'.tsv', dp.preprocess(raw_folder + str(f) +'.txt', '', ','.join(province_list), 'Saudi', '', header=None))\n",
    "\n",
    "\n",
    "suar_process(\"twitter\", \"hashtag_level\", 1, 11, ['Najdi'])\n",
    "suar_process(\"youtube_transcript\", \"speech_transcript\", 11, 19, ['Gulf', 'Najdi'])\n",
    "suar_process(\"whatsapp\", \"informal_message\", 19, 53, ['Najdi'])\n",
    "suar_process(\"blog\", \"manual_search\", 53, 72, ['Hijazi', 'Najdi'])\n",
    "suar_process(\"instagram\", \"user_level\", 72, 84,  ['Hijazi', 'Najdi'])\n",
    "suar_process(\"forum\", \"manual_search\", 84, 89, ['Hijazi', 'Najdi'])\n",
    "\n",
    "\n"
   ]
  },
  {
   "cell_type": "code",
   "execution_count": 7,
   "metadata": {},
   "outputs": [],
   "source": [
    "dp = DataProcess('../data_preprocessed/suar/', \"hashtag_level\", \"twitter\", 'https://www.sciencedirect.com/science/article/pii/S187705091832163X', \n",
    "                 'suar', {},{},0,'corpus') \n",
    "    \n",
    "\n",
    "dp.save_features('../datasets_features.tsv')\n",
    "\n",
    "\n",
    "    "
   ]
  }
 ],
 "metadata": {
  "kernelspec": {
   "display_name": "Python 3",
   "language": "python",
   "name": "python3"
  },
  "language_info": {
   "codemirror_mode": {
    "name": "ipython",
    "version": 3
   },
   "file_extension": ".py",
   "mimetype": "text/x-python",
   "name": "python",
   "nbconvert_exporter": "python",
   "pygments_lexer": "ipython3",
   "version": "3.8.2"
  }
 },
 "nbformat": 4,
 "nbformat_minor": 4
}
